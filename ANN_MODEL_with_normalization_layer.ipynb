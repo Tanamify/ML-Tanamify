{
  "cells": [
    {
      "cell_type": "code",
      "execution_count": null,
      "metadata": {
        "id": "q_GO9V2TCFgz"
      },
      "outputs": [],
      "source": [
        "import pandas as pd\n",
        "import numpy as np\n",
        "from sklearn.model_selection import train_test_split\n",
        "from sklearn.preprocessing import OneHotEncoder\n",
        "from sklearn.compose import ColumnTransformer\n",
        "from keras.models import Sequential\n",
        "from keras.layers import Dense\n",
        "from sklearn.metrics import accuracy_score, classification_report\n",
        "from google.colab import files\n",
        "from keras.layers.experimental.preprocessing import Normalization"
      ]
    },
    {
      "cell_type": "code",
      "execution_count": null,
      "metadata": {
        "colab": {
          "base_uri": "https://localhost:8080/",
          "height": 424
        },
        "id": "jig5pnmbCeta",
        "outputId": "18abf0e5-04c0-460b-f9a0-3df41277ff56"
      },
      "outputs": [
        {
          "output_type": "execute_result",
          "data": {
            "text/plain": [
              "       Tavg  RH_avg     RR    ss  soil_type  plant_type\n",
              "0     28.62   60.18  11.73  5.86          3           6\n",
              "1     28.62   60.18  11.73  5.86          5           6\n",
              "2     28.62   60.18  11.73  5.86          1           6\n",
              "3     28.62   60.18  11.73  5.86          4           6\n",
              "4     28.62   60.18  11.73  5.86          2           6\n",
              "...     ...     ...    ...   ...        ...         ...\n",
              "1560  25.30  100.00  35.00  0.80          3           2\n",
              "1561  25.30  100.00  35.00  0.80          5           2\n",
              "1562  25.30  100.00  35.00  0.80          1           2\n",
              "1563  25.30  100.00  35.00  0.80          4           2\n",
              "1564  25.30  100.00  35.00  0.80          2           2\n",
              "\n",
              "[1565 rows x 6 columns]"
            ],
            "text/html": [
              "\n",
              "  <div id=\"df-a4df3793-de4a-4da6-8d31-46f2232bad37\" class=\"colab-df-container\">\n",
              "    <div>\n",
              "<style scoped>\n",
              "    .dataframe tbody tr th:only-of-type {\n",
              "        vertical-align: middle;\n",
              "    }\n",
              "\n",
              "    .dataframe tbody tr th {\n",
              "        vertical-align: top;\n",
              "    }\n",
              "\n",
              "    .dataframe thead th {\n",
              "        text-align: right;\n",
              "    }\n",
              "</style>\n",
              "<table border=\"1\" class=\"dataframe\">\n",
              "  <thead>\n",
              "    <tr style=\"text-align: right;\">\n",
              "      <th></th>\n",
              "      <th>Tavg</th>\n",
              "      <th>RH_avg</th>\n",
              "      <th>RR</th>\n",
              "      <th>ss</th>\n",
              "      <th>soil_type</th>\n",
              "      <th>plant_type</th>\n",
              "    </tr>\n",
              "  </thead>\n",
              "  <tbody>\n",
              "    <tr>\n",
              "      <th>0</th>\n",
              "      <td>28.62</td>\n",
              "      <td>60.18</td>\n",
              "      <td>11.73</td>\n",
              "      <td>5.86</td>\n",
              "      <td>3</td>\n",
              "      <td>6</td>\n",
              "    </tr>\n",
              "    <tr>\n",
              "      <th>1</th>\n",
              "      <td>28.62</td>\n",
              "      <td>60.18</td>\n",
              "      <td>11.73</td>\n",
              "      <td>5.86</td>\n",
              "      <td>5</td>\n",
              "      <td>6</td>\n",
              "    </tr>\n",
              "    <tr>\n",
              "      <th>2</th>\n",
              "      <td>28.62</td>\n",
              "      <td>60.18</td>\n",
              "      <td>11.73</td>\n",
              "      <td>5.86</td>\n",
              "      <td>1</td>\n",
              "      <td>6</td>\n",
              "    </tr>\n",
              "    <tr>\n",
              "      <th>3</th>\n",
              "      <td>28.62</td>\n",
              "      <td>60.18</td>\n",
              "      <td>11.73</td>\n",
              "      <td>5.86</td>\n",
              "      <td>4</td>\n",
              "      <td>6</td>\n",
              "    </tr>\n",
              "    <tr>\n",
              "      <th>4</th>\n",
              "      <td>28.62</td>\n",
              "      <td>60.18</td>\n",
              "      <td>11.73</td>\n",
              "      <td>5.86</td>\n",
              "      <td>2</td>\n",
              "      <td>6</td>\n",
              "    </tr>\n",
              "    <tr>\n",
              "      <th>...</th>\n",
              "      <td>...</td>\n",
              "      <td>...</td>\n",
              "      <td>...</td>\n",
              "      <td>...</td>\n",
              "      <td>...</td>\n",
              "      <td>...</td>\n",
              "    </tr>\n",
              "    <tr>\n",
              "      <th>1560</th>\n",
              "      <td>25.30</td>\n",
              "      <td>100.00</td>\n",
              "      <td>35.00</td>\n",
              "      <td>0.80</td>\n",
              "      <td>3</td>\n",
              "      <td>2</td>\n",
              "    </tr>\n",
              "    <tr>\n",
              "      <th>1561</th>\n",
              "      <td>25.30</td>\n",
              "      <td>100.00</td>\n",
              "      <td>35.00</td>\n",
              "      <td>0.80</td>\n",
              "      <td>5</td>\n",
              "      <td>2</td>\n",
              "    </tr>\n",
              "    <tr>\n",
              "      <th>1562</th>\n",
              "      <td>25.30</td>\n",
              "      <td>100.00</td>\n",
              "      <td>35.00</td>\n",
              "      <td>0.80</td>\n",
              "      <td>1</td>\n",
              "      <td>2</td>\n",
              "    </tr>\n",
              "    <tr>\n",
              "      <th>1563</th>\n",
              "      <td>25.30</td>\n",
              "      <td>100.00</td>\n",
              "      <td>35.00</td>\n",
              "      <td>0.80</td>\n",
              "      <td>4</td>\n",
              "      <td>2</td>\n",
              "    </tr>\n",
              "    <tr>\n",
              "      <th>1564</th>\n",
              "      <td>25.30</td>\n",
              "      <td>100.00</td>\n",
              "      <td>35.00</td>\n",
              "      <td>0.80</td>\n",
              "      <td>2</td>\n",
              "      <td>2</td>\n",
              "    </tr>\n",
              "  </tbody>\n",
              "</table>\n",
              "<p>1565 rows × 6 columns</p>\n",
              "</div>\n",
              "    <div class=\"colab-df-buttons\">\n",
              "\n",
              "  <div class=\"colab-df-container\">\n",
              "    <button class=\"colab-df-convert\" onclick=\"convertToInteractive('df-a4df3793-de4a-4da6-8d31-46f2232bad37')\"\n",
              "            title=\"Convert this dataframe to an interactive table.\"\n",
              "            style=\"display:none;\">\n",
              "\n",
              "  <svg xmlns=\"http://www.w3.org/2000/svg\" height=\"24px\" viewBox=\"0 -960 960 960\">\n",
              "    <path d=\"M120-120v-720h720v720H120Zm60-500h600v-160H180v160Zm220 220h160v-160H400v160Zm0 220h160v-160H400v160ZM180-400h160v-160H180v160Zm440 0h160v-160H620v160ZM180-180h160v-160H180v160Zm440 0h160v-160H620v160Z\"/>\n",
              "  </svg>\n",
              "    </button>\n",
              "\n",
              "  <style>\n",
              "    .colab-df-container {\n",
              "      display:flex;\n",
              "      gap: 12px;\n",
              "    }\n",
              "\n",
              "    .colab-df-convert {\n",
              "      background-color: #E8F0FE;\n",
              "      border: none;\n",
              "      border-radius: 50%;\n",
              "      cursor: pointer;\n",
              "      display: none;\n",
              "      fill: #1967D2;\n",
              "      height: 32px;\n",
              "      padding: 0 0 0 0;\n",
              "      width: 32px;\n",
              "    }\n",
              "\n",
              "    .colab-df-convert:hover {\n",
              "      background-color: #E2EBFA;\n",
              "      box-shadow: 0px 1px 2px rgba(60, 64, 67, 0.3), 0px 1px 3px 1px rgba(60, 64, 67, 0.15);\n",
              "      fill: #174EA6;\n",
              "    }\n",
              "\n",
              "    .colab-df-buttons div {\n",
              "      margin-bottom: 4px;\n",
              "    }\n",
              "\n",
              "    [theme=dark] .colab-df-convert {\n",
              "      background-color: #3B4455;\n",
              "      fill: #D2E3FC;\n",
              "    }\n",
              "\n",
              "    [theme=dark] .colab-df-convert:hover {\n",
              "      background-color: #434B5C;\n",
              "      box-shadow: 0px 1px 3px 1px rgba(0, 0, 0, 0.15);\n",
              "      filter: drop-shadow(0px 1px 2px rgba(0, 0, 0, 0.3));\n",
              "      fill: #FFFFFF;\n",
              "    }\n",
              "  </style>\n",
              "\n",
              "    <script>\n",
              "      const buttonEl =\n",
              "        document.querySelector('#df-a4df3793-de4a-4da6-8d31-46f2232bad37 button.colab-df-convert');\n",
              "      buttonEl.style.display =\n",
              "        google.colab.kernel.accessAllowed ? 'block' : 'none';\n",
              "\n",
              "      async function convertToInteractive(key) {\n",
              "        const element = document.querySelector('#df-a4df3793-de4a-4da6-8d31-46f2232bad37');\n",
              "        const dataTable =\n",
              "          await google.colab.kernel.invokeFunction('convertToInteractive',\n",
              "                                                    [key], {});\n",
              "        if (!dataTable) return;\n",
              "\n",
              "        const docLinkHtml = 'Like what you see? Visit the ' +\n",
              "          '<a target=\"_blank\" href=https://colab.research.google.com/notebooks/data_table.ipynb>data table notebook</a>'\n",
              "          + ' to learn more about interactive tables.';\n",
              "        element.innerHTML = '';\n",
              "        dataTable['output_type'] = 'display_data';\n",
              "        await google.colab.output.renderOutput(dataTable, element);\n",
              "        const docLink = document.createElement('div');\n",
              "        docLink.innerHTML = docLinkHtml;\n",
              "        element.appendChild(docLink);\n",
              "      }\n",
              "    </script>\n",
              "  </div>\n",
              "\n",
              "\n",
              "<div id=\"df-bce48ba4-a42e-4bee-bda0-aff84c3584cb\">\n",
              "  <button class=\"colab-df-quickchart\" onclick=\"quickchart('df-bce48ba4-a42e-4bee-bda0-aff84c3584cb')\"\n",
              "            title=\"Suggest charts\"\n",
              "            style=\"display:none;\">\n",
              "\n",
              "<svg xmlns=\"http://www.w3.org/2000/svg\" height=\"24px\"viewBox=\"0 0 24 24\"\n",
              "     width=\"24px\">\n",
              "    <g>\n",
              "        <path d=\"M19 3H5c-1.1 0-2 .9-2 2v14c0 1.1.9 2 2 2h14c1.1 0 2-.9 2-2V5c0-1.1-.9-2-2-2zM9 17H7v-7h2v7zm4 0h-2V7h2v10zm4 0h-2v-4h2v4z\"/>\n",
              "    </g>\n",
              "</svg>\n",
              "  </button>\n",
              "\n",
              "<style>\n",
              "  .colab-df-quickchart {\n",
              "      --bg-color: #E8F0FE;\n",
              "      --fill-color: #1967D2;\n",
              "      --hover-bg-color: #E2EBFA;\n",
              "      --hover-fill-color: #174EA6;\n",
              "      --disabled-fill-color: #AAA;\n",
              "      --disabled-bg-color: #DDD;\n",
              "  }\n",
              "\n",
              "  [theme=dark] .colab-df-quickchart {\n",
              "      --bg-color: #3B4455;\n",
              "      --fill-color: #D2E3FC;\n",
              "      --hover-bg-color: #434B5C;\n",
              "      --hover-fill-color: #FFFFFF;\n",
              "      --disabled-bg-color: #3B4455;\n",
              "      --disabled-fill-color: #666;\n",
              "  }\n",
              "\n",
              "  .colab-df-quickchart {\n",
              "    background-color: var(--bg-color);\n",
              "    border: none;\n",
              "    border-radius: 50%;\n",
              "    cursor: pointer;\n",
              "    display: none;\n",
              "    fill: var(--fill-color);\n",
              "    height: 32px;\n",
              "    padding: 0;\n",
              "    width: 32px;\n",
              "  }\n",
              "\n",
              "  .colab-df-quickchart:hover {\n",
              "    background-color: var(--hover-bg-color);\n",
              "    box-shadow: 0 1px 2px rgba(60, 64, 67, 0.3), 0 1px 3px 1px rgba(60, 64, 67, 0.15);\n",
              "    fill: var(--button-hover-fill-color);\n",
              "  }\n",
              "\n",
              "  .colab-df-quickchart-complete:disabled,\n",
              "  .colab-df-quickchart-complete:disabled:hover {\n",
              "    background-color: var(--disabled-bg-color);\n",
              "    fill: var(--disabled-fill-color);\n",
              "    box-shadow: none;\n",
              "  }\n",
              "\n",
              "  .colab-df-spinner {\n",
              "    border: 2px solid var(--fill-color);\n",
              "    border-color: transparent;\n",
              "    border-bottom-color: var(--fill-color);\n",
              "    animation:\n",
              "      spin 1s steps(1) infinite;\n",
              "  }\n",
              "\n",
              "  @keyframes spin {\n",
              "    0% {\n",
              "      border-color: transparent;\n",
              "      border-bottom-color: var(--fill-color);\n",
              "      border-left-color: var(--fill-color);\n",
              "    }\n",
              "    20% {\n",
              "      border-color: transparent;\n",
              "      border-left-color: var(--fill-color);\n",
              "      border-top-color: var(--fill-color);\n",
              "    }\n",
              "    30% {\n",
              "      border-color: transparent;\n",
              "      border-left-color: var(--fill-color);\n",
              "      border-top-color: var(--fill-color);\n",
              "      border-right-color: var(--fill-color);\n",
              "    }\n",
              "    40% {\n",
              "      border-color: transparent;\n",
              "      border-right-color: var(--fill-color);\n",
              "      border-top-color: var(--fill-color);\n",
              "    }\n",
              "    60% {\n",
              "      border-color: transparent;\n",
              "      border-right-color: var(--fill-color);\n",
              "    }\n",
              "    80% {\n",
              "      border-color: transparent;\n",
              "      border-right-color: var(--fill-color);\n",
              "      border-bottom-color: var(--fill-color);\n",
              "    }\n",
              "    90% {\n",
              "      border-color: transparent;\n",
              "      border-bottom-color: var(--fill-color);\n",
              "    }\n",
              "  }\n",
              "</style>\n",
              "\n",
              "  <script>\n",
              "    async function quickchart(key) {\n",
              "      const quickchartButtonEl =\n",
              "        document.querySelector('#' + key + ' button');\n",
              "      quickchartButtonEl.disabled = true;  // To prevent multiple clicks.\n",
              "      quickchartButtonEl.classList.add('colab-df-spinner');\n",
              "      try {\n",
              "        const charts = await google.colab.kernel.invokeFunction(\n",
              "            'suggestCharts', [key], {});\n",
              "      } catch (error) {\n",
              "        console.error('Error during call to suggestCharts:', error);\n",
              "      }\n",
              "      quickchartButtonEl.classList.remove('colab-df-spinner');\n",
              "      quickchartButtonEl.classList.add('colab-df-quickchart-complete');\n",
              "    }\n",
              "    (() => {\n",
              "      let quickchartButtonEl =\n",
              "        document.querySelector('#df-bce48ba4-a42e-4bee-bda0-aff84c3584cb button');\n",
              "      quickchartButtonEl.style.display =\n",
              "        google.colab.kernel.accessAllowed ? 'block' : 'none';\n",
              "    })();\n",
              "  </script>\n",
              "</div>\n",
              "\n",
              "  <div id=\"id_eff98546-828c-433f-85e6-bd8d36a34568\">\n",
              "    <style>\n",
              "      .colab-df-generate {\n",
              "        background-color: #E8F0FE;\n",
              "        border: none;\n",
              "        border-radius: 50%;\n",
              "        cursor: pointer;\n",
              "        display: none;\n",
              "        fill: #1967D2;\n",
              "        height: 32px;\n",
              "        padding: 0 0 0 0;\n",
              "        width: 32px;\n",
              "      }\n",
              "\n",
              "      .colab-df-generate:hover {\n",
              "        background-color: #E2EBFA;\n",
              "        box-shadow: 0px 1px 2px rgba(60, 64, 67, 0.3), 0px 1px 3px 1px rgba(60, 64, 67, 0.15);\n",
              "        fill: #174EA6;\n",
              "      }\n",
              "\n",
              "      [theme=dark] .colab-df-generate {\n",
              "        background-color: #3B4455;\n",
              "        fill: #D2E3FC;\n",
              "      }\n",
              "\n",
              "      [theme=dark] .colab-df-generate:hover {\n",
              "        background-color: #434B5C;\n",
              "        box-shadow: 0px 1px 3px 1px rgba(0, 0, 0, 0.15);\n",
              "        filter: drop-shadow(0px 1px 2px rgba(0, 0, 0, 0.3));\n",
              "        fill: #FFFFFF;\n",
              "      }\n",
              "    </style>\n",
              "    <button class=\"colab-df-generate\" onclick=\"generateWithVariable('df')\"\n",
              "            title=\"Generate code using this dataframe.\"\n",
              "            style=\"display:none;\">\n",
              "\n",
              "  <svg xmlns=\"http://www.w3.org/2000/svg\" height=\"24px\"viewBox=\"0 0 24 24\"\n",
              "       width=\"24px\">\n",
              "    <path d=\"M7,19H8.4L18.45,9,17,7.55,7,17.6ZM5,21V16.75L18.45,3.32a2,2,0,0,1,2.83,0l1.4,1.43a1.91,1.91,0,0,1,.58,1.4,1.91,1.91,0,0,1-.58,1.4L9.25,21ZM18.45,9,17,7.55Zm-12,3A5.31,5.31,0,0,0,4.9,8.1,5.31,5.31,0,0,0,1,6.5,5.31,5.31,0,0,0,4.9,4.9,5.31,5.31,0,0,0,6.5,1,5.31,5.31,0,0,0,8.1,4.9,5.31,5.31,0,0,0,12,6.5,5.46,5.46,0,0,0,6.5,12Z\"/>\n",
              "  </svg>\n",
              "    </button>\n",
              "    <script>\n",
              "      (() => {\n",
              "      const buttonEl =\n",
              "        document.querySelector('#id_eff98546-828c-433f-85e6-bd8d36a34568 button.colab-df-generate');\n",
              "      buttonEl.style.display =\n",
              "        google.colab.kernel.accessAllowed ? 'block' : 'none';\n",
              "\n",
              "      buttonEl.onclick = () => {\n",
              "        google.colab.notebook.generateWithVariable('df');\n",
              "      }\n",
              "      })();\n",
              "    </script>\n",
              "  </div>\n",
              "\n",
              "    </div>\n",
              "  </div>\n"
            ],
            "application/vnd.google.colaboratory.intrinsic+json": {
              "type": "dataframe",
              "variable_name": "df",
              "summary": "{\n  \"name\": \"df\",\n  \"rows\": 1565,\n  \"fields\": [\n    {\n      \"column\": \"Tavg\",\n      \"properties\": {\n        \"dtype\": \"number\",\n        \"std\": 2.7408717728829064,\n        \"min\": 19.4,\n        \"max\": 33.24,\n        \"num_unique_values\": 111,\n        \"samples\": [\n          29.3,\n          29.91,\n          33.24\n        ],\n        \"semantic_type\": \"\",\n        \"description\": \"\"\n      }\n    },\n    {\n      \"column\": \"RH_avg\",\n      \"properties\": {\n        \"dtype\": \"number\",\n        \"std\": 7.479371829509177,\n        \"min\": 60.18,\n        \"max\": 100.0,\n        \"num_unique_values\": 60,\n        \"samples\": [\n          60.18,\n          62.77,\n          80.22\n        ],\n        \"semantic_type\": \"\",\n        \"description\": \"\"\n      }\n    },\n    {\n      \"column\": \"RR\",\n      \"properties\": {\n        \"dtype\": \"number\",\n        \"std\": 13.675674050277426,\n        \"min\": 0.0,\n        \"max\": 89.1,\n        \"num_unique_values\": 121,\n        \"samples\": [\n          4.1,\n          2.2,\n          10.75\n        ],\n        \"semantic_type\": \"\",\n        \"description\": \"\"\n      }\n    },\n    {\n      \"column\": \"ss\",\n      \"properties\": {\n        \"dtype\": \"number\",\n        \"std\": 2.854922280301032,\n        \"min\": 0.0,\n        \"max\": 10.8,\n        \"num_unique_values\": 125,\n        \"samples\": [\n          3.84,\n          7.29,\n          5.3\n        ],\n        \"semantic_type\": \"\",\n        \"description\": \"\"\n      }\n    },\n    {\n      \"column\": \"soil_type\",\n      \"properties\": {\n        \"dtype\": \"number\",\n        \"std\": 1,\n        \"min\": 1,\n        \"max\": 5,\n        \"num_unique_values\": 5,\n        \"samples\": [\n          5,\n          2,\n          1\n        ],\n        \"semantic_type\": \"\",\n        \"description\": \"\"\n      }\n    },\n    {\n      \"column\": \"plant_type\",\n      \"properties\": {\n        \"dtype\": \"number\",\n        \"std\": 1,\n        \"min\": 1,\n        \"max\": 6,\n        \"num_unique_values\": 6,\n        \"samples\": [\n          6,\n          5,\n          1\n        ],\n        \"semantic_type\": \"\",\n        \"description\": \"\"\n      }\n    }\n  ]\n}"
            }
          },
          "metadata": {},
          "execution_count": 4
        }
      ],
      "source": [
        "df = pd.read_excel(\"dataset_real.xlsx\")\n",
        "df"
      ]
    },
    {
      "cell_type": "code",
      "execution_count": null,
      "metadata": {
        "id": "ACwx4mHpCi-D"
      },
      "outputs": [],
      "source": [
        "X = df.iloc[:, 0:5].values\n",
        "y = df.iloc[:, 5].values.reshape(-1, 1)"
      ]
    },
    {
      "cell_type": "code",
      "execution_count": null,
      "metadata": {
        "colab": {
          "base_uri": "https://localhost:8080/"
        },
        "id": "GtDF3LjzCljX",
        "outputId": "e6e7a3e1-dc76-4b89-a377-c0628fc4c07d"
      },
      "outputs": [
        {
          "output_type": "stream",
          "name": "stderr",
          "text": [
            "/usr/local/lib/python3.10/dist-packages/sklearn/preprocessing/_encoders.py:868: FutureWarning: `sparse` was renamed to `sparse_output` in version 1.2 and will be removed in 1.4. `sparse_output` is ignored unless you leave `sparse` to its default value.\n",
            "  warnings.warn(\n"
          ]
        }
      ],
      "source": [
        "# One-Hot Encoding\n",
        "encoder = OneHotEncoder(sparse=False)\n",
        "y = encoder.fit_transform(y)\n"
      ]
    },
    {
      "cell_type": "code",
      "source": [
        "y"
      ],
      "metadata": {
        "colab": {
          "base_uri": "https://localhost:8080/"
        },
        "id": "uet5XnQr1MJf",
        "outputId": "24a749d5-f07e-43fe-db06-4a3363eacf89"
      },
      "execution_count": null,
      "outputs": [
        {
          "output_type": "execute_result",
          "data": {
            "text/plain": [
              "array([[0., 0., 0., 0., 0., 1.],\n",
              "       [0., 0., 0., 0., 0., 1.],\n",
              "       [0., 0., 0., 0., 0., 1.],\n",
              "       ...,\n",
              "       [0., 1., 0., 0., 0., 0.],\n",
              "       [0., 1., 0., 0., 0., 0.],\n",
              "       [0., 1., 0., 0., 0., 0.]])"
            ]
          },
          "metadata": {},
          "execution_count": 7
        }
      ]
    },
    {
      "cell_type": "code",
      "execution_count": null,
      "metadata": {
        "id": "5W8mDdllCmi3"
      },
      "outputs": [],
      "source": [
        "X_train, X_test, y_train, y_test = train_test_split(X, y, test_size=0.2, random_state=42)"
      ]
    },
    {
      "cell_type": "code",
      "execution_count": null,
      "metadata": {
        "id": "90R7r2peCpHM"
      },
      "outputs": [],
      "source": [
        "normalizer = Normalization(input_shape=(5,))\n",
        "normalizer.adapt(X_train)"
      ]
    },
    {
      "cell_type": "code",
      "source": [
        "X_train"
      ],
      "metadata": {
        "colab": {
          "base_uri": "https://localhost:8080/"
        },
        "id": "SFAPzZJs1Qiw",
        "outputId": "a18bd102-8777-4a76-bca8-2759122ef63d"
      },
      "execution_count": null,
      "outputs": [
        {
          "output_type": "execute_result",
          "data": {
            "text/plain": [
              "array([[22.6 , 91.  ,  5.  ,  5.5 ,  3.  ],\n",
              "       [29.5 , 82.  , 12.2 ,  0.6 ,  3.  ],\n",
              "       [25.8 , 84.  ,  0.  ,  7.1 ,  1.  ],\n",
              "       ...,\n",
              "       [23.15, 83.85,  7.37,  7.28,  3.  ],\n",
              "       [27.6 , 93.  ,  1.4 ,  0.  ,  2.  ],\n",
              "       [28.6 , 87.  ,  5.3 ,  4.  ,  5.  ]])"
            ]
          },
          "metadata": {},
          "execution_count": 10
        }
      ]
    },
    {
      "cell_type": "code",
      "source": [
        "X_test"
      ],
      "metadata": {
        "colab": {
          "base_uri": "https://localhost:8080/"
        },
        "id": "9732UyqV1SMC",
        "outputId": "72285a59-38bd-403f-d03f-45e8fc2e1a8a"
      },
      "execution_count": null,
      "outputs": [
        {
          "output_type": "execute_result",
          "data": {
            "text/plain": [
              "array([[27.2 , 81.  ,  0.  ,  6.5 ,  1.  ],\n",
              "       [30.  , 77.  , 89.1 ,  5.7 ,  5.  ],\n",
              "       [23.2 , 92.  , 68.7 ,  5.6 ,  1.  ],\n",
              "       ...,\n",
              "       [28.4 , 86.  ,  8.3 ,  5.2 ,  4.  ],\n",
              "       [29.4 , 81.  ,  0.5 ,  8.6 ,  4.  ],\n",
              "       [22.54, 64.58, 10.53,  6.17,  4.  ]])"
            ]
          },
          "metadata": {},
          "execution_count": 11
        }
      ]
    },
    {
      "cell_type": "code",
      "execution_count": null,
      "metadata": {
        "id": "viqyeYGCCrll"
      },
      "outputs": [],
      "source": [
        "model = Sequential(name=\"ANN_Model_for_Crop_Recommendation\")\n",
        "model.add(normalizer)\n",
        "model.add(Dense(units=32, activation='relu', input_dim=X_train.shape[1]))\n",
        "model.add(Dense(units=16, activation='relu'))\n",
        "model.add(Dense(units=y_train.shape[1], activation='softmax'))\n"
      ]
    },
    {
      "cell_type": "code",
      "execution_count": null,
      "metadata": {
        "colab": {
          "base_uri": "https://localhost:8080/"
        },
        "id": "OD5Y6ib_NckZ",
        "outputId": "2ad5a010-9982-4d7b-9da6-2953fca60850"
      },
      "outputs": [
        {
          "output_type": "stream",
          "name": "stdout",
          "text": [
            "Model: \"ANN_Model_for_Crop_Recommendation\"\n",
            "_________________________________________________________________\n",
            " Layer (type)                Output Shape              Param #   \n",
            "=================================================================\n",
            " normalization (Normalizati  (None, 5)                 11        \n",
            " on)                                                             \n",
            "                                                                 \n",
            " dense_6 (Dense)             (None, 32)                192       \n",
            "                                                                 \n",
            " dense_7 (Dense)             (None, 16)                528       \n",
            "                                                                 \n",
            " dense_8 (Dense)             (None, 6)                 102       \n",
            "                                                                 \n",
            "=================================================================\n",
            "Total params: 833 (3.26 KB)\n",
            "Trainable params: 822 (3.21 KB)\n",
            "Non-trainable params: 11 (48.00 Byte)\n",
            "_________________________________________________________________\n"
          ]
        }
      ],
      "source": [
        "model.summary()"
      ]
    },
    {
      "cell_type": "code",
      "execution_count": null,
      "metadata": {
        "id": "uXN_Kxl8CtMz"
      },
      "outputs": [],
      "source": [
        "model.compile(optimizer='adam', loss='categorical_crossentropy', metrics=['accuracy'])"
      ]
    },
    {
      "cell_type": "code",
      "execution_count": null,
      "metadata": {
        "colab": {
          "base_uri": "https://localhost:8080/"
        },
        "id": "jF8YG5hUCvkG",
        "outputId": "ec876dc7-8c93-4371-83fc-e298efef0342"
      },
      "outputs": [
        {
          "output_type": "stream",
          "name": "stdout",
          "text": [
            "Epoch 1/100\n",
            "79/79 [==============================] - 0s 3ms/step - loss: 0.0062 - accuracy: 0.9968 - val_loss: 0.0184 - val_accuracy: 0.9904\n",
            "Epoch 2/100\n",
            "79/79 [==============================] - 0s 3ms/step - loss: 0.0072 - accuracy: 0.9960 - val_loss: 0.0200 - val_accuracy: 0.9904\n",
            "Epoch 3/100\n",
            "79/79 [==============================] - 0s 3ms/step - loss: 0.0068 - accuracy: 0.9976 - val_loss: 0.0197 - val_accuracy: 0.9904\n",
            "Epoch 4/100\n",
            "79/79 [==============================] - 0s 3ms/step - loss: 0.0074 - accuracy: 0.9968 - val_loss: 0.0189 - val_accuracy: 0.9936\n",
            "Epoch 5/100\n",
            "79/79 [==============================] - 0s 3ms/step - loss: 0.0063 - accuracy: 0.9968 - val_loss: 0.0170 - val_accuracy: 0.9936\n",
            "Epoch 6/100\n",
            "79/79 [==============================] - 0s 4ms/step - loss: 0.0065 - accuracy: 0.9976 - val_loss: 0.0181 - val_accuracy: 0.9936\n",
            "Epoch 7/100\n",
            "79/79 [==============================] - 0s 4ms/step - loss: 0.0058 - accuracy: 0.9992 - val_loss: 0.0229 - val_accuracy: 0.9840\n",
            "Epoch 8/100\n",
            "79/79 [==============================] - 0s 3ms/step - loss: 0.0064 - accuracy: 0.9976 - val_loss: 0.0186 - val_accuracy: 0.9904\n",
            "Epoch 9/100\n",
            "79/79 [==============================] - 0s 3ms/step - loss: 0.0067 - accuracy: 0.9976 - val_loss: 0.0239 - val_accuracy: 0.9840\n",
            "Epoch 10/100\n",
            "79/79 [==============================] - 0s 3ms/step - loss: 0.0058 - accuracy: 0.9976 - val_loss: 0.0193 - val_accuracy: 0.9936\n",
            "Epoch 11/100\n",
            "79/79 [==============================] - 0s 3ms/step - loss: 0.0062 - accuracy: 0.9976 - val_loss: 0.0163 - val_accuracy: 0.9936\n",
            "Epoch 12/100\n",
            "79/79 [==============================] - 0s 3ms/step - loss: 0.0060 - accuracy: 0.9984 - val_loss: 0.0231 - val_accuracy: 0.9840\n",
            "Epoch 13/100\n",
            "79/79 [==============================] - 0s 3ms/step - loss: 0.0053 - accuracy: 0.9984 - val_loss: 0.0170 - val_accuracy: 0.9936\n",
            "Epoch 14/100\n",
            "79/79 [==============================] - 0s 3ms/step - loss: 0.0056 - accuracy: 0.9976 - val_loss: 0.0160 - val_accuracy: 0.9936\n",
            "Epoch 15/100\n",
            "79/79 [==============================] - 0s 3ms/step - loss: 0.0056 - accuracy: 0.9984 - val_loss: 0.0167 - val_accuracy: 0.9904\n",
            "Epoch 16/100\n",
            "79/79 [==============================] - 0s 3ms/step - loss: 0.0058 - accuracy: 0.9992 - val_loss: 0.0183 - val_accuracy: 0.9936\n",
            "Epoch 17/100\n",
            "79/79 [==============================] - 0s 3ms/step - loss: 0.0054 - accuracy: 0.9984 - val_loss: 0.0185 - val_accuracy: 0.9936\n",
            "Epoch 18/100\n",
            "79/79 [==============================] - 0s 3ms/step - loss: 0.0053 - accuracy: 0.9984 - val_loss: 0.0245 - val_accuracy: 0.9840\n",
            "Epoch 19/100\n",
            "79/79 [==============================] - 0s 3ms/step - loss: 0.0054 - accuracy: 0.9976 - val_loss: 0.0163 - val_accuracy: 0.9936\n",
            "Epoch 20/100\n",
            "79/79 [==============================] - 0s 2ms/step - loss: 0.0057 - accuracy: 0.9968 - val_loss: 0.0167 - val_accuracy: 0.9936\n",
            "Epoch 21/100\n",
            "79/79 [==============================] - 0s 4ms/step - loss: 0.0053 - accuracy: 0.9984 - val_loss: 0.0149 - val_accuracy: 0.9936\n",
            "Epoch 22/100\n",
            "79/79 [==============================] - 0s 3ms/step - loss: 0.0064 - accuracy: 0.9968 - val_loss: 0.0203 - val_accuracy: 0.9904\n",
            "Epoch 23/100\n",
            "79/79 [==============================] - 0s 3ms/step - loss: 0.0050 - accuracy: 0.9984 - val_loss: 0.0179 - val_accuracy: 0.9904\n",
            "Epoch 24/100\n",
            "79/79 [==============================] - 0s 3ms/step - loss: 0.0049 - accuracy: 0.9992 - val_loss: 0.0299 - val_accuracy: 0.9840\n",
            "Epoch 25/100\n",
            "79/79 [==============================] - 0s 3ms/step - loss: 0.0056 - accuracy: 0.9976 - val_loss: 0.0201 - val_accuracy: 0.9904\n",
            "Epoch 26/100\n",
            "79/79 [==============================] - 0s 2ms/step - loss: 0.0049 - accuracy: 0.9984 - val_loss: 0.0150 - val_accuracy: 0.9936\n",
            "Epoch 27/100\n",
            "79/79 [==============================] - 0s 3ms/step - loss: 0.0046 - accuracy: 0.9992 - val_loss: 0.0173 - val_accuracy: 0.9936\n",
            "Epoch 28/100\n",
            "79/79 [==============================] - 0s 4ms/step - loss: 0.0050 - accuracy: 0.9984 - val_loss: 0.0159 - val_accuracy: 0.9936\n",
            "Epoch 29/100\n",
            "79/79 [==============================] - 0s 6ms/step - loss: 0.0048 - accuracy: 0.9984 - val_loss: 0.0147 - val_accuracy: 0.9936\n",
            "Epoch 30/100\n",
            "79/79 [==============================] - 0s 5ms/step - loss: 0.0044 - accuracy: 0.9984 - val_loss: 0.0162 - val_accuracy: 0.9936\n",
            "Epoch 31/100\n",
            "79/79 [==============================] - 0s 5ms/step - loss: 0.0047 - accuracy: 0.9992 - val_loss: 0.0160 - val_accuracy: 0.9904\n",
            "Epoch 32/100\n",
            "79/79 [==============================] - 0s 5ms/step - loss: 0.0047 - accuracy: 0.9984 - val_loss: 0.0235 - val_accuracy: 0.9904\n",
            "Epoch 33/100\n",
            "79/79 [==============================] - 0s 5ms/step - loss: 0.0053 - accuracy: 0.9984 - val_loss: 0.0158 - val_accuracy: 0.9936\n",
            "Epoch 34/100\n",
            "79/79 [==============================] - 1s 8ms/step - loss: 0.0050 - accuracy: 0.9984 - val_loss: 0.0156 - val_accuracy: 0.9936\n",
            "Epoch 35/100\n",
            "79/79 [==============================] - 0s 5ms/step - loss: 0.0043 - accuracy: 0.9984 - val_loss: 0.0143 - val_accuracy: 0.9904\n",
            "Epoch 36/100\n",
            "79/79 [==============================] - 0s 4ms/step - loss: 0.0044 - accuracy: 0.9984 - val_loss: 0.0170 - val_accuracy: 0.9936\n",
            "Epoch 37/100\n",
            "79/79 [==============================] - 0s 2ms/step - loss: 0.0042 - accuracy: 0.9984 - val_loss: 0.0152 - val_accuracy: 0.9936\n",
            "Epoch 38/100\n",
            "79/79 [==============================] - 0s 3ms/step - loss: 0.0038 - accuracy: 0.9992 - val_loss: 0.0202 - val_accuracy: 0.9904\n",
            "Epoch 39/100\n",
            "79/79 [==============================] - 0s 3ms/step - loss: 0.0045 - accuracy: 0.9984 - val_loss: 0.0164 - val_accuracy: 0.9904\n",
            "Epoch 40/100\n",
            "79/79 [==============================] - 0s 4ms/step - loss: 0.0043 - accuracy: 0.9984 - val_loss: 0.0142 - val_accuracy: 0.9936\n",
            "Epoch 41/100\n",
            "79/79 [==============================] - 0s 3ms/step - loss: 0.0041 - accuracy: 0.9984 - val_loss: 0.0147 - val_accuracy: 0.9936\n",
            "Epoch 42/100\n",
            "79/79 [==============================] - 0s 3ms/step - loss: 0.0049 - accuracy: 0.9984 - val_loss: 0.0140 - val_accuracy: 0.9936\n",
            "Epoch 43/100\n",
            "79/79 [==============================] - 0s 4ms/step - loss: 0.0035 - accuracy: 1.0000 - val_loss: 0.0329 - val_accuracy: 0.9840\n",
            "Epoch 44/100\n",
            "79/79 [==============================] - 0s 4ms/step - loss: 0.0041 - accuracy: 0.9968 - val_loss: 0.0229 - val_accuracy: 0.9872\n",
            "Epoch 45/100\n",
            "79/79 [==============================] - 0s 2ms/step - loss: 0.0056 - accuracy: 0.9968 - val_loss: 0.0165 - val_accuracy: 0.9936\n",
            "Epoch 46/100\n",
            "79/79 [==============================] - 0s 3ms/step - loss: 0.0050 - accuracy: 0.9992 - val_loss: 0.0149 - val_accuracy: 0.9904\n",
            "Epoch 47/100\n",
            "79/79 [==============================] - 0s 3ms/step - loss: 0.0040 - accuracy: 1.0000 - val_loss: 0.0218 - val_accuracy: 0.9904\n",
            "Epoch 48/100\n",
            "79/79 [==============================] - 0s 3ms/step - loss: 0.0047 - accuracy: 0.9984 - val_loss: 0.0158 - val_accuracy: 0.9904\n",
            "Epoch 49/100\n",
            "79/79 [==============================] - 0s 3ms/step - loss: 0.0043 - accuracy: 0.9984 - val_loss: 0.0155 - val_accuracy: 0.9904\n",
            "Epoch 50/100\n",
            "79/79 [==============================] - 0s 3ms/step - loss: 0.0039 - accuracy: 0.9992 - val_loss: 0.0172 - val_accuracy: 0.9936\n",
            "Epoch 51/100\n",
            "79/79 [==============================] - 0s 2ms/step - loss: 0.0037 - accuracy: 0.9984 - val_loss: 0.0143 - val_accuracy: 0.9904\n",
            "Epoch 52/100\n",
            "79/79 [==============================] - 0s 3ms/step - loss: 0.0044 - accuracy: 0.9984 - val_loss: 0.0146 - val_accuracy: 0.9936\n",
            "Epoch 53/100\n",
            "79/79 [==============================] - 0s 3ms/step - loss: 0.0038 - accuracy: 0.9984 - val_loss: 0.0139 - val_accuracy: 0.9936\n",
            "Epoch 54/100\n",
            "79/79 [==============================] - 0s 3ms/step - loss: 0.0036 - accuracy: 0.9992 - val_loss: 0.0132 - val_accuracy: 0.9936\n",
            "Epoch 55/100\n",
            "79/79 [==============================] - 0s 3ms/step - loss: 0.0041 - accuracy: 0.9976 - val_loss: 0.0150 - val_accuracy: 0.9936\n",
            "Epoch 56/100\n",
            "79/79 [==============================] - 0s 3ms/step - loss: 0.0040 - accuracy: 0.9976 - val_loss: 0.0180 - val_accuracy: 0.9936\n",
            "Epoch 57/100\n",
            "79/79 [==============================] - 0s 3ms/step - loss: 0.0038 - accuracy: 0.9984 - val_loss: 0.0150 - val_accuracy: 0.9904\n",
            "Epoch 58/100\n",
            "79/79 [==============================] - 0s 3ms/step - loss: 0.0031 - accuracy: 1.0000 - val_loss: 0.0248 - val_accuracy: 0.9904\n",
            "Epoch 59/100\n",
            "79/79 [==============================] - 0s 2ms/step - loss: 0.0032 - accuracy: 0.9992 - val_loss: 0.0145 - val_accuracy: 0.9936\n",
            "Epoch 60/100\n",
            "79/79 [==============================] - 0s 4ms/step - loss: 0.0044 - accuracy: 0.9984 - val_loss: 0.0161 - val_accuracy: 0.9936\n",
            "Epoch 61/100\n",
            "79/79 [==============================] - 0s 3ms/step - loss: 0.0034 - accuracy: 0.9984 - val_loss: 0.0242 - val_accuracy: 0.9904\n",
            "Epoch 62/100\n",
            "79/79 [==============================] - 0s 3ms/step - loss: 0.0036 - accuracy: 0.9992 - val_loss: 0.0160 - val_accuracy: 0.9936\n",
            "Epoch 63/100\n",
            "79/79 [==============================] - 0s 3ms/step - loss: 0.0041 - accuracy: 0.9984 - val_loss: 0.0150 - val_accuracy: 0.9904\n",
            "Epoch 64/100\n",
            "79/79 [==============================] - 0s 3ms/step - loss: 0.0044 - accuracy: 0.9984 - val_loss: 0.0173 - val_accuracy: 0.9904\n",
            "Epoch 65/100\n",
            "79/79 [==============================] - 0s 3ms/step - loss: 0.0077 - accuracy: 0.9968 - val_loss: 0.0260 - val_accuracy: 0.9904\n",
            "Epoch 66/100\n",
            "79/79 [==============================] - 0s 3ms/step - loss: 0.0052 - accuracy: 0.9976 - val_loss: 0.0146 - val_accuracy: 0.9904\n",
            "Epoch 67/100\n",
            "79/79 [==============================] - 0s 2ms/step - loss: 0.0037 - accuracy: 0.9992 - val_loss: 0.0133 - val_accuracy: 0.9936\n",
            "Epoch 68/100\n",
            "79/79 [==============================] - 0s 3ms/step - loss: 0.0030 - accuracy: 0.9992 - val_loss: 0.0194 - val_accuracy: 0.9904\n",
            "Epoch 69/100\n",
            "79/79 [==============================] - 0s 2ms/step - loss: 0.0035 - accuracy: 0.9984 - val_loss: 0.0138 - val_accuracy: 0.9936\n",
            "Epoch 70/100\n",
            "79/79 [==============================] - 0s 3ms/step - loss: 0.0034 - accuracy: 0.9992 - val_loss: 0.0140 - val_accuracy: 0.9936\n",
            "Epoch 71/100\n",
            "79/79 [==============================] - 0s 2ms/step - loss: 0.0033 - accuracy: 0.9984 - val_loss: 0.0116 - val_accuracy: 0.9936\n",
            "Epoch 72/100\n",
            "79/79 [==============================] - 0s 2ms/step - loss: 0.0031 - accuracy: 0.9984 - val_loss: 0.0159 - val_accuracy: 0.9904\n",
            "Epoch 73/100\n",
            "79/79 [==============================] - 0s 3ms/step - loss: 0.0033 - accuracy: 0.9984 - val_loss: 0.0182 - val_accuracy: 0.9904\n",
            "Epoch 74/100\n",
            "79/79 [==============================] - 0s 3ms/step - loss: 0.0038 - accuracy: 0.9984 - val_loss: 0.0147 - val_accuracy: 0.9936\n",
            "Epoch 75/100\n",
            "79/79 [==============================] - 0s 2ms/step - loss: 0.0030 - accuracy: 0.9984 - val_loss: 0.0158 - val_accuracy: 0.9936\n",
            "Epoch 76/100\n",
            "79/79 [==============================] - 0s 2ms/step - loss: 0.0036 - accuracy: 0.9984 - val_loss: 0.0158 - val_accuracy: 0.9968\n",
            "Epoch 77/100\n",
            "79/79 [==============================] - 0s 5ms/step - loss: 0.0043 - accuracy: 0.9976 - val_loss: 0.0146 - val_accuracy: 0.9904\n",
            "Epoch 78/100\n",
            "79/79 [==============================] - 0s 4ms/step - loss: 0.0038 - accuracy: 0.9976 - val_loss: 0.0131 - val_accuracy: 0.9936\n",
            "Epoch 79/100\n",
            "79/79 [==============================] - 0s 4ms/step - loss: 0.0032 - accuracy: 0.9984 - val_loss: 0.0131 - val_accuracy: 0.9936\n",
            "Epoch 80/100\n",
            "79/79 [==============================] - 0s 4ms/step - loss: 0.0027 - accuracy: 0.9992 - val_loss: 0.0149 - val_accuracy: 0.9904\n",
            "Epoch 81/100\n",
            "79/79 [==============================] - 0s 5ms/step - loss: 0.0030 - accuracy: 0.9984 - val_loss: 0.0124 - val_accuracy: 0.9936\n",
            "Epoch 82/100\n",
            "79/79 [==============================] - 0s 5ms/step - loss: 0.0033 - accuracy: 0.9992 - val_loss: 0.0131 - val_accuracy: 0.9936\n",
            "Epoch 83/100\n",
            "79/79 [==============================] - 0s 5ms/step - loss: 0.0030 - accuracy: 0.9984 - val_loss: 0.0111 - val_accuracy: 0.9968\n",
            "Epoch 84/100\n",
            "79/79 [==============================] - 0s 4ms/step - loss: 0.0029 - accuracy: 0.9992 - val_loss: 0.0129 - val_accuracy: 0.9936\n",
            "Epoch 85/100\n",
            "79/79 [==============================] - 0s 5ms/step - loss: 0.0029 - accuracy: 0.9992 - val_loss: 0.0111 - val_accuracy: 0.9936\n",
            "Epoch 86/100\n",
            "79/79 [==============================] - 0s 3ms/step - loss: 0.0030 - accuracy: 0.9992 - val_loss: 0.0119 - val_accuracy: 0.9936\n",
            "Epoch 87/100\n",
            "79/79 [==============================] - 0s 2ms/step - loss: 0.0042 - accuracy: 0.9976 - val_loss: 0.0114 - val_accuracy: 0.9936\n",
            "Epoch 88/100\n",
            "79/79 [==============================] - 0s 3ms/step - loss: 0.0028 - accuracy: 0.9992 - val_loss: 0.0111 - val_accuracy: 0.9936\n",
            "Epoch 89/100\n",
            "79/79 [==============================] - 0s 3ms/step - loss: 0.0029 - accuracy: 0.9992 - val_loss: 0.0135 - val_accuracy: 0.9936\n",
            "Epoch 90/100\n",
            "79/79 [==============================] - 0s 2ms/step - loss: 0.0025 - accuracy: 1.0000 - val_loss: 0.0237 - val_accuracy: 0.9904\n",
            "Epoch 91/100\n",
            "79/79 [==============================] - 0s 2ms/step - loss: 0.0035 - accuracy: 0.9984 - val_loss: 0.0199 - val_accuracy: 0.9904\n",
            "Epoch 92/100\n",
            "79/79 [==============================] - 0s 3ms/step - loss: 0.0034 - accuracy: 0.9984 - val_loss: 0.0139 - val_accuracy: 0.9904\n",
            "Epoch 93/100\n",
            "79/79 [==============================] - 0s 3ms/step - loss: 0.0028 - accuracy: 0.9984 - val_loss: 0.0110 - val_accuracy: 0.9936\n",
            "Epoch 94/100\n",
            "79/79 [==============================] - 0s 3ms/step - loss: 0.0027 - accuracy: 0.9984 - val_loss: 0.0103 - val_accuracy: 0.9968\n",
            "Epoch 95/100\n",
            "79/79 [==============================] - 0s 3ms/step - loss: 0.0028 - accuracy: 0.9992 - val_loss: 0.0122 - val_accuracy: 0.9936\n",
            "Epoch 96/100\n",
            "79/79 [==============================] - 0s 3ms/step - loss: 0.0029 - accuracy: 0.9992 - val_loss: 0.0106 - val_accuracy: 0.9936\n",
            "Epoch 97/100\n",
            "79/79 [==============================] - 0s 3ms/step - loss: 0.0036 - accuracy: 0.9984 - val_loss: 0.0114 - val_accuracy: 0.9936\n",
            "Epoch 98/100\n",
            "79/79 [==============================] - 0s 3ms/step - loss: 0.0029 - accuracy: 0.9992 - val_loss: 0.0109 - val_accuracy: 0.9936\n",
            "Epoch 99/100\n",
            "79/79 [==============================] - 0s 3ms/step - loss: 0.0026 - accuracy: 0.9992 - val_loss: 0.0112 - val_accuracy: 0.9904\n",
            "Epoch 100/100\n",
            "79/79 [==============================] - 0s 3ms/step - loss: 0.0026 - accuracy: 0.9992 - val_loss: 0.0122 - val_accuracy: 0.9936\n"
          ]
        }
      ],
      "source": [
        "history = model.fit(X_train, y_train, epochs=100, batch_size=16, validation_data=(X_test, y_test))"
      ]
    },
    {
      "cell_type": "code",
      "execution_count": null,
      "metadata": {
        "colab": {
          "base_uri": "https://localhost:8080/"
        },
        "id": "T60N9GPoCxPI",
        "outputId": "4f3a1c21-7630-4ebf-9a27-1f874689158a"
      },
      "outputs": [
        {
          "output_type": "stream",
          "name": "stdout",
          "text": [
            "10/10 [==============================] - 0s 2ms/step - loss: 0.0122 - accuracy: 0.9936\n",
            "Test Accuracy: 99.36%\n"
          ]
        }
      ],
      "source": [
        "#evaluation\n",
        "loss, accuracy = model.evaluate(X_test, y_test)\n",
        "print(f'Test Accuracy: {accuracy * 100:.2f}%')"
      ]
    },
    {
      "cell_type": "code",
      "execution_count": null,
      "metadata": {
        "colab": {
          "base_uri": "https://localhost:8080/"
        },
        "id": "f6A5EDJCOft6",
        "outputId": "be93d0fa-df74-4ffe-f616-993fd4053f1f"
      },
      "outputs": [
        {
          "output_type": "stream",
          "name": "stdout",
          "text": [
            "10/10 [==============================] - 0s 2ms/step\n"
          ]
        }
      ],
      "source": [
        "# Predictions\n",
        "y_pred = model.predict(X_test)\n",
        "y_pred_classes = np.argmax(y_pred, axis=1)\n",
        "y_test_classes = np.argmax(y_test, axis=1)"
      ]
    },
    {
      "cell_type": "code",
      "execution_count": null,
      "metadata": {
        "colab": {
          "base_uri": "https://localhost:8080/"
        },
        "id": "uMdhcA53OypK",
        "outputId": "9c2bb45d-fabe-4674-a568-3d33e4348d6c"
      },
      "outputs": [
        {
          "output_type": "stream",
          "name": "stdout",
          "text": [
            "              precision    recall  f1-score   support\n",
            "\n",
            "           0       1.00      1.00      1.00        81\n",
            "           1       1.00      1.00      1.00        97\n",
            "           2       0.99      0.99      0.99        91\n",
            "           3       0.95      0.95      0.95        22\n",
            "           4       1.00      1.00      1.00        15\n",
            "           5       1.00      1.00      1.00         7\n",
            "\n",
            "    accuracy                           0.99       313\n",
            "   macro avg       0.99      0.99      0.99       313\n",
            "weighted avg       0.99      0.99      0.99       313\n",
            "\n"
          ]
        }
      ],
      "source": [
        "# Classification Report\n",
        "print(classification_report(y_test_classes, y_pred_classes))\n"
      ]
    },
    {
      "cell_type": "code",
      "source": [
        "# Predict new data\n",
        "new_data = np.array([[25, 76, 19, 6, 2]])\n",
        "new_data"
      ],
      "metadata": {
        "colab": {
          "base_uri": "https://localhost:8080/"
        },
        "id": "B4gbdWipbsgq",
        "outputId": "b8a2a70e-fa57-4cca-dfc3-309047d3c7c6"
      },
      "execution_count": null,
      "outputs": [
        {
          "output_type": "execute_result",
          "data": {
            "text/plain": [
              "array([[25, 76, 19,  6,  2]])"
            ]
          },
          "metadata": {},
          "execution_count": 41
        }
      ]
    },
    {
      "cell_type": "code",
      "source": [
        "y_pred_new = model.predict(new_data)\n",
        "y_pred_new"
      ],
      "metadata": {
        "colab": {
          "base_uri": "https://localhost:8080/"
        },
        "id": "rcFuMnuJbxMX",
        "outputId": "a46e5daf-7a3f-41af-9ed3-a57379f864b1"
      },
      "execution_count": null,
      "outputs": [
        {
          "output_type": "stream",
          "name": "stdout",
          "text": [
            "1/1 [==============================] - 0s 18ms/step\n"
          ]
        },
        {
          "output_type": "execute_result",
          "data": {
            "text/plain": [
              "array([[8.5181101e-16, 4.0355042e-04, 9.1281807e-01, 8.6778387e-02,\n",
              "        1.0230172e-16, 7.0790391e-19]], dtype=float32)"
            ]
          },
          "metadata": {},
          "execution_count": 42
        }
      ]
    },
    {
      "cell_type": "code",
      "source": [
        "y_pred_label_new = encoder.inverse_transform(y_pred_new)\n",
        "y_pred_label_new"
      ],
      "metadata": {
        "colab": {
          "base_uri": "https://localhost:8080/"
        },
        "id": "o5xrvr9ld680",
        "outputId": "49d59d20-776b-4ad4-a17d-64a2a1edc5e1"
      },
      "execution_count": null,
      "outputs": [
        {
          "output_type": "execute_result",
          "data": {
            "text/plain": [
              "array([[3]])"
            ]
          },
          "metadata": {},
          "execution_count": 43
        }
      ]
    },
    {
      "cell_type": "code",
      "execution_count": null,
      "metadata": {
        "colab": {
          "base_uri": "https://localhost:8080/"
        },
        "id": "9Z2wTqxPCzJO",
        "outputId": "78ffa6c6-5baa-4c72-825c-e19ad2a34362"
      },
      "outputs": [
        {
          "output_type": "stream",
          "name": "stdout",
          "text": [
            "Data baru diprediksi sebagai kelas: 3\n"
          ]
        }
      ],
      "source": [
        "print(f\"Data baru diprediksi sebagai kelas: {y_pred_label_new[0][0]}\")"
      ]
    },
    {
      "cell_type": "code",
      "execution_count": null,
      "metadata": {
        "colab": {
          "base_uri": "https://localhost:8080/",
          "height": 542
        },
        "id": "d8-BY9hHO3C7",
        "outputId": "8610db98-c2cd-46db-d136-e78296391652"
      },
      "outputs": [
        {
          "output_type": "display_data",
          "data": {
            "text/plain": [
              "<Figure size 1000x600 with 2 Axes>"
            ],
            "image/png": "[encoded data removed]"
          },
          "metadata": {}
        }
      ],
      "source": [
        "from sklearn.metrics import confusion_matrix\n",
        "import matplotlib.pyplot as plt\n",
        "import seaborn as sns\n",
        "# Confusion Matrix\n",
        "cm = confusion_matrix(y_test_classes, y_pred_classes)\n",
        "\n",
        "# Plot confusion matrix\n",
        "fig, ax = plt.subplots(figsize=(10, 6))\n",
        "sns.heatmap(cm, annot=True, fmt=\"d\", xticklabels=encoder.categories_[0], yticklabels=encoder.categories_[0])\n",
        "plt.xlabel('Predicted')\n",
        "plt.ylabel('True')\n",
        "plt.show()\n"
      ]
    },
    {
      "cell_type": "code",
      "execution_count": null,
      "metadata": {
        "colab": {
          "base_uri": "https://localhost:8080/",
          "height": 386
        },
        "id": "iqAFIx9wPH39",
        "outputId": "cd1bd6f1-3b8c-497d-c14c-8687ad4f6143"
      },
      "outputs": [
        {
          "output_type": "display_data",
          "data": {
            "text/plain": [
              "<Figure size 1200x400 with 2 Axes>"
            ],
            "image/png": "[encoded data removed]"
          },
          "metadata": {}
        }
      ],
      "source": [
        "import matplotlib.pyplot as plt\n",
        "\n",
        "# Plot training & validation accuracy values\n",
        "plt.figure(figsize=(12, 4))\n",
        "plt.subplot(1, 2, 1)\n",
        "plt.plot(history.history['accuracy'])\n",
        "plt.plot(history.history['val_accuracy'])\n",
        "plt.title('Model Accuracy')\n",
        "plt.ylabel('Accuracy')\n",
        "plt.xlabel('Epoch')\n",
        "plt.legend(['Train', 'Test'], loc='upper left')\n",
        "\n",
        "# Plot training & validation loss values\n",
        "plt.subplot(1, 2, 2)\n",
        "plt.plot(history.history['loss'])\n",
        "plt.plot(history.history['val_loss'])\n",
        "plt.title('Model Loss')\n",
        "plt.ylabel('Loss')\n",
        "plt.xlabel('Epoch')\n",
        "plt.legend(['Train', 'Test'], loc='upper left')\n",
        "\n",
        "plt.show()"
      ]
    },
    {
      "cell_type": "code",
      "execution_count": null,
      "metadata": {
        "colab": {
          "base_uri": "https://localhost:8080/"
        },
        "id": "brL-8yorLk6T",
        "outputId": "1624edfd-f410-4c24-c063-33720c20a70c"
      },
      "outputs": [
        {
          "output_type": "stream",
          "name": "stderr",
          "text": [
            "/usr/local/lib/python3.10/dist-packages/keras/src/engine/training.py:3103: UserWarning: You are saving your model as an HDF5 file via `model.save()`. This file format is considered legacy. We recommend using instead the native Keras format, e.g. `model.save('my_model.keras')`.\n",
            "  saving_api.save_model(\n"
          ]
        }
      ],
      "source": [
        "file_h5 = 'ANN_MODEL.h5'\n",
        "model.save(file_h5)"
      ]
    },
    {
      "cell_type": "code",
      "source": [
        "# Install TensorFlow Lite Support Library\n",
        "!pip install tflite-support"
      ],
      "metadata": {
        "colab": {
          "base_uri": "https://localhost:8080/"
        },
        "id": "slin6Td6-Mgc",
        "outputId": "9e256648-5b70-4052-9d16-ce96d001eb8f"
      },
      "execution_count": null,
      "outputs": [
        {
          "output_type": "stream",
          "name": "stdout",
          "text": [
            "Requirement already satisfied: tflite-support in /usr/local/lib/python3.10/dist-packages (0.4.4)\n",
            "Requirement already satisfied: absl-py>=0.7.0 in /usr/local/lib/python3.10/dist-packages (from tflite-support) (1.4.0)\n",
            "Requirement already satisfied: numpy>=1.20.0 in /usr/local/lib/python3.10/dist-packages (from tflite-support) (1.25.2)\n",
            "Requirement already satisfied: flatbuffers>=2.0 in /usr/local/lib/python3.10/dist-packages (from tflite-support) (24.3.25)\n",
            "Requirement already satisfied: protobuf<4,>=3.18.0 in /usr/local/lib/python3.10/dist-packages (from tflite-support) (3.20.3)\n",
            "Requirement already satisfied: sounddevice>=0.4.4 in /usr/local/lib/python3.10/dist-packages (from tflite-support) (0.4.7)\n",
            "Requirement already satisfied: pybind11>=2.6.0 in /usr/local/lib/python3.10/dist-packages (from tflite-support) (2.12.0)\n",
            "Requirement already satisfied: CFFI>=1.0 in /usr/local/lib/python3.10/dist-packages (from sounddevice>=0.4.4->tflite-support) (1.16.0)\n",
            "Requirement already satisfied: pycparser in /usr/local/lib/python3.10/dist-packages (from CFFI>=1.0->sounddevice>=0.4.4->tflite-support) (2.22)\n"
          ]
        }
      ]
    },
    {
      "cell_type": "code",
      "source": [
        "# Mengonversi model Keras ke TensorFlow Lite\n",
        "import tensorflow as tf\n",
        "converter = tf.lite.TFLiteConverter.from_keras_model(model)\n",
        "tflite_model = converter.convert()"
      ],
      "metadata": {
        "id": "mCHiEmxz-GMf"
      },
      "execution_count": null,
      "outputs": []
    },
    {
      "cell_type": "code",
      "source": [
        "# Menyimpan model TFLite ke file\n",
        "tflite_model_path = \"ANN_MODEL.tflite\"\n",
        "with open(tflite_model_path, \"wb\") as f:\n",
        "    f.write(tflite_model)"
      ],
      "metadata": {
        "id": "WQvOkG34-GrQ"
      },
      "execution_count": null,
      "outputs": []
    },
    {
      "cell_type": "code",
      "source": [
        "# Unduh model dengan metadata ke lokal\n",
        "from google.colab import files\n",
        "files.download(tflite_model_path)"
      ],
      "metadata": {
        "colab": {
          "base_uri": "https://localhost:8080/",
          "height": 17
        },
        "id": "207ulgRX-LsG",
        "outputId": "f5b7a95c-1bc0-42f9-a82e-2d578bd0dc47"
      },
      "execution_count": null,
      "outputs": [
        {
          "output_type": "display_data",
          "data": {
            "text/plain": [
              "<IPython.core.display.Javascript object>"
            ],
            "application/javascript": [
              "\n",
              "    async function download(id, filename, size) {\n",
              "      if (!google.colab.kernel.accessAllowed) {\n",
              "        return;\n",
              "      }\n",
              "      const div = document.createElement('div');\n",
              "      const label = document.createElement('label');\n",
              "      label.textContent = `Downloading \"${filename}\": `;\n",
              "      div.appendChild(label);\n",
              "      const progress = document.createElement('progress');\n",
              "      progress.max = size;\n",
              "      div.appendChild(progress);\n",
              "      document.body.appendChild(div);\n",
              "\n",
              "      const buffers = [];\n",
              "      let downloaded = 0;\n",
              "\n",
              "      const channel = await google.colab.kernel.comms.open(id);\n",
              "      // Send a message to notify the kernel that we're ready.\n",
              "      channel.send({})\n",
              "\n",
              "      for await (const message of channel.messages) {\n",
              "        // Send a message to notify the kernel that we're ready.\n",
              "        channel.send({})\n",
              "        if (message.buffers) {\n",
              "          for (const buffer of message.buffers) {\n",
              "            buffers.push(buffer);\n",
              "            downloaded += buffer.byteLength;\n",
              "            progress.value = downloaded;\n",
              "          }\n",
              "        }\n",
              "      }\n",
              "      const blob = new Blob(buffers, {type: 'application/binary'});\n",
              "      const a = document.createElement('a');\n",
              "      a.href = window.URL.createObjectURL(blob);\n",
              "      a.download = filename;\n",
              "      div.appendChild(a);\n",
              "      a.click();\n",
              "      div.remove();\n",
              "    }\n",
              "  "
            ]
          },
          "metadata": {}
        },
        {
          "output_type": "display_data",
          "data": {
            "text/plain": [
              "<IPython.core.display.Javascript object>"
            ],
            "application/javascript": [
              "download(\"download_55ddbdc6-07cc-4193-9e82-8f74c356d980\", \"ANN_MODEL.tflite\", 6020)"
            ]
          },
          "metadata": {}
        }
      ]
    }
  ],
  "metadata": {
    "colab": {
      "provenance": []
    },
    "kernelspec": {
      "display_name": "Python 3",
      "name": "python3"
    },
    "language_info": {
      "name": "python"
    }
  },
  "nbformat": 4,
  "nbformat_minor": 0
}