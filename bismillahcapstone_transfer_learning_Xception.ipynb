{
  "cells": [
    {
      "cell_type": "code",
      "execution_count": null,
      "metadata": {
        "id": "2uzCeYPGuKQ0"
      },
      "outputs": [],
      "source": [
        "!pip install -q kaggle"
      ]
    },
    {
      "cell_type": "code",
      "execution_count": null,
      "metadata": {
        "id": "iFFABRmwA2Ju",
        "collapsed": true,
        "colab": {
          "base_uri": "https://localhost:8080/",
          "height": 90
        },
        "outputId": "1f28af8a-186d-4873-c487-7fbdecc42fbd"
      },
      "outputs": [
        {
          "output_type": "display_data",
          "data": {
            "text/plain": [
              "<IPython.core.display.HTML object>"
            ],
            "text/html": [
              "\n",
              "     <input type=\"file\" id=\"files-55912638-b356-41b4-8d78-33f678fedc58\" name=\"files[]\" multiple disabled\n",
              "        style=\"border:none\" />\n",
              "     <output id=\"result-55912638-b356-41b4-8d78-33f678fedc58\">\n",
              "      Upload widget is only available when the cell has been executed in the\n",
              "      current browser session. Please rerun this cell to enable.\n",
              "      </output>\n",
              "      <script>// Copyright 2017 Google LLC\n",
              "//\n",
              "// Licensed under the Apache License, Version 2.0 (the \"License\");\n",
              "// you may not use this file except in compliance with the License.\n",
              "// You may obtain a copy of the License at\n",
              "//\n",
              "//      http://www.apache.org/licenses/LICENSE-2.0\n",
              "//\n",
              "// Unless required by applicable law or agreed to in writing, software\n",
              "// distributed under the License is distributed on an \"AS IS\" BASIS,\n",
              "// WITHOUT WARRANTIES OR CONDITIONS OF ANY KIND, either express or implied.\n",
              "// See the License for the specific language governing permissions and\n",
              "// limitations under the License.\n",
              "\n",
              "/**\n",
              " * @fileoverview Helpers for google.colab Python module.\n",
              " */\n",
              "(function(scope) {\n",
              "function span(text, styleAttributes = {}) {\n",
              "  const element = document.createElement('span');\n",
              "  element.textContent = text;\n",
              "  for (const key of Object.keys(styleAttributes)) {\n",
              "    element.style[key] = styleAttributes[key];\n",
              "  }\n",
              "  return element;\n",
              "}\n",
              "\n",
              "// Max number of bytes which will be uploaded at a time.\n",
              "const MAX_PAYLOAD_SIZE = 100 * 1024;\n",
              "\n",
              "function _uploadFiles(inputId, outputId) {\n",
              "  const steps = uploadFilesStep(inputId, outputId);\n",
              "  const outputElement = document.getElementById(outputId);\n",
              "  // Cache steps on the outputElement to make it available for the next call\n",
              "  // to uploadFilesContinue from Python.\n",
              "  outputElement.steps = steps;\n",
              "\n",
              "  return _uploadFilesContinue(outputId);\n",
              "}\n",
              "\n",
              "// This is roughly an async generator (not supported in the browser yet),\n",
              "// where there are multiple asynchronous steps and the Python side is going\n",
              "// to poll for completion of each step.\n",
              "// This uses a Promise to block the python side on completion of each step,\n",
              "// then passes the result of the previous step as the input to the next step.\n",
              "function _uploadFilesContinue(outputId) {\n",
              "  const outputElement = document.getElementById(outputId);\n",
              "  const steps = outputElement.steps;\n",
              "\n",
              "  const next = steps.next(outputElement.lastPromiseValue);\n",
              "  return Promise.resolve(next.value.promise).then((value) => {\n",
              "    // Cache the last promise value to make it available to the next\n",
              "    // step of the generator.\n",
              "    outputElement.lastPromiseValue = value;\n",
              "    return next.value.response;\n",
              "  });\n",
              "}\n",
              "\n",
              "/**\n",
              " * Generator function which is called between each async step of the upload\n",
              " * process.\n",
              " * @param {string} inputId Element ID of the input file picker element.\n",
              " * @param {string} outputId Element ID of the output display.\n",
              " * @return {!Iterable<!Object>} Iterable of next steps.\n",
              " */\n",
              "function* uploadFilesStep(inputId, outputId) {\n",
              "  const inputElement = document.getElementById(inputId);\n",
              "  inputElement.disabled = false;\n",
              "\n",
              "  const outputElement = document.getElementById(outputId);\n",
              "  outputElement.innerHTML = '';\n",
              "\n",
              "  const pickedPromise = new Promise((resolve) => {\n",
              "    inputElement.addEventListener('change', (e) => {\n",
              "      resolve(e.target.files);\n",
              "    });\n",
              "  });\n",
              "\n",
              "  const cancel = document.createElement('button');\n",
              "  inputElement.parentElement.appendChild(cancel);\n",
              "  cancel.textContent = 'Cancel upload';\n",
              "  const cancelPromise = new Promise((resolve) => {\n",
              "    cancel.onclick = () => {\n",
              "      resolve(null);\n",
              "    };\n",
              "  });\n",
              "\n",
              "  // Wait for the user to pick the files.\n",
              "  const files = yield {\n",
              "    promise: Promise.race([pickedPromise, cancelPromise]),\n",
              "    response: {\n",
              "      action: 'starting',\n",
              "    }\n",
              "  };\n",
              "\n",
              "  cancel.remove();\n",
              "\n",
              "  // Disable the input element since further picks are not allowed.\n",
              "  inputElement.disabled = true;\n",
              "\n",
              "  if (!files) {\n",
              "    return {\n",
              "      response: {\n",
              "        action: 'complete',\n",
              "      }\n",
              "    };\n",
              "  }\n",
              "\n",
              "  for (const file of files) {\n",
              "    const li = document.createElement('li');\n",
              "    li.append(span(file.name, {fontWeight: 'bold'}));\n",
              "    li.append(span(\n",
              "        `(${file.type || 'n/a'}) - ${file.size} bytes, ` +\n",
              "        `last modified: ${\n",
              "            file.lastModifiedDate ? file.lastModifiedDate.toLocaleDateString() :\n",
              "                                    'n/a'} - `));\n",
              "    const percent = span('0% done');\n",
              "    li.appendChild(percent);\n",
              "\n",
              "    outputElement.appendChild(li);\n",
              "\n",
              "    const fileDataPromise = new Promise((resolve) => {\n",
              "      const reader = new FileReader();\n",
              "      reader.onload = (e) => {\n",
              "        resolve(e.target.result);\n",
              "      };\n",
              "      reader.readAsArrayBuffer(file);\n",
              "    });\n",
              "    // Wait for the data to be ready.\n",
              "    let fileData = yield {\n",
              "      promise: fileDataPromise,\n",
              "      response: {\n",
              "        action: 'continue',\n",
              "      }\n",
              "    };\n",
              "\n",
              "    // Use a chunked sending to avoid message size limits. See b/62115660.\n",
              "    let position = 0;\n",
              "    do {\n",
              "      const length = Math.min(fileData.byteLength - position, MAX_PAYLOAD_SIZE);\n",
              "      const chunk = new Uint8Array(fileData, position, length);\n",
              "      position += length;\n",
              "\n",
              "      const base64 = btoa(String.fromCharCode.apply(null, chunk));\n",
              "      yield {\n",
              "        response: {\n",
              "          action: 'append',\n",
              "          file: file.name,\n",
              "          data: base64,\n",
              "        },\n",
              "      };\n",
              "\n",
              "      let percentDone = fileData.byteLength === 0 ?\n",
              "          100 :\n",
              "          Math.round((position / fileData.byteLength) * 100);\n",
              "      percent.textContent = `${percentDone}% done`;\n",
              "\n",
              "    } while (position < fileData.byteLength);\n",
              "  }\n",
              "\n",
              "  // All done.\n",
              "  yield {\n",
              "    response: {\n",
              "      action: 'complete',\n",
              "    }\n",
              "  };\n",
              "}\n",
              "\n",
              "scope.google = scope.google || {};\n",
              "scope.google.colab = scope.google.colab || {};\n",
              "scope.google.colab._files = {\n",
              "  _uploadFiles,\n",
              "  _uploadFilesContinue,\n",
              "};\n",
              "})(self);\n",
              "</script> "
            ]
          },
          "metadata": {}
        },
        {
          "output_type": "stream",
          "name": "stdout",
          "text": [
            "Saving kaggle.json to kaggle (1).json\n"
          ]
        },
        {
          "output_type": "execute_result",
          "data": {
            "text/plain": [
              "{'kaggle (1).json': b'{\"username\":\"rizkyfahreza\",\"key\":\"5c5deb65fe64a44af1c87afe7da7b566\"}'}"
            ]
          },
          "metadata": {},
          "execution_count": 19
        }
      ],
      "source": [
        "# Upload api kaggle\n",
        "from google.colab import files\n",
        "files.upload()"
      ]
    },
    {
      "cell_type": "code",
      "execution_count": null,
      "metadata": {
        "id": "VM9rWxaUyjEf"
      },
      "outputs": [],
      "source": [
        "!mkdir -p ~/.kaggle"
      ]
    },
    {
      "cell_type": "code",
      "execution_count": null,
      "metadata": {
        "id": "CFTB3mrJ-aHI"
      },
      "outputs": [],
      "source": [
        "!cp kaggle.json ~/.kaggle"
      ]
    },
    {
      "cell_type": "code",
      "execution_count": null,
      "metadata": {
        "id": "a6EZLRnN-dA_"
      },
      "outputs": [],
      "source": [
        "!chmod 600 ~/.kaggle/kaggle.json"
      ]
    },
    {
      "cell_type": "code",
      "execution_count": null,
      "metadata": {
        "id": "Xbu4B-613ghE",
        "colab": {
          "base_uri": "https://localhost:8080/"
        },
        "outputId": "8c62a8f2-f9ff-47e4-ee93-66e2564b3943"
      },
      "outputs": [
        {
          "output_type": "stream",
          "name": "stdout",
          "text": [
            "ref                                                             title                                                size  lastUpdated          downloadCount  voteCount  usabilityRating  \n",
            "--------------------------------------------------------------  --------------------------------------------------  -----  -------------------  -------------  ---------  ---------------  \n",
            "shreyanshverma27/online-sales-dataset-popular-marketplace-data  Online Sales Dataset - Popular Marketplace Data       7KB  2024-05-25 23:55:26           1568         30  1.0              \n",
            "dem0nking/mobile-games-android-and-ios-rating-dataset           Mobile Games (Android and IOS) Rating Dataset         2KB  2024-05-25 13:26:55            839         32  1.0              \n",
            "jainaru/parkinson-disease-detection                             Parkinson Disease Detection                          16KB  2024-05-27 15:51:16            783         26  1.0              \n",
            "rohit265/credit-card-eligibility-data-determining-factors       Credit Card Eligibility Data: Determining Factors   296KB  2024-05-18 11:31:28           1804         33  1.0              \n",
            "zeesolver/spotfy                                                Spotify Songs Album                                  47KB  2024-05-10 09:21:57           3068         44  1.0              \n",
            "kanchana1990/vehicle-dataset-2024                               Vehicle Dataset 2024                                308KB  2024-05-29 20:02:30            903         35  1.0              \n",
            "khushikhushikhushi/imdb-top-rated-tv-series-dataset             IMDb Top-Rated TV Series Dataset                     73KB  2024-05-25 19:22:33            553         22  1.0              \n",
            "rahulvyasm/netflix-movies-and-tv-shows                          Netflix Movies and TV Shows                           1MB  2024-04-10 09:48:38          26725        567  1.0              \n",
            "fardifaalam170041060/champions-league-dataset-1955-2023         UEFA Champions League Historical Dataset 1955-2023    9KB  2024-06-01 07:12:19            837         27  0.9411765        \n",
            "emirhanai/social-media-usage-and-emotional-well-being           Social Media Usage and Emotional Well-Being           8KB  2024-05-19 18:25:52           2694         48  1.0              \n",
            "khushikhushikhushi/amazon-bestselling-books                     Amazon Bestselling Books                              4KB  2024-05-23 13:59:52           1151         31  1.0              \n",
            "jainaru/thyroid-disease-data                                    Thyroid Disease Data                                  3KB  2024-05-10 12:06:31           4173         88  1.0              \n",
            "piterfm/football-soccer-uefa-euro-1960-2024                     Football - Soccer - UEFA EURO, 1960 - 2024           87KB  2024-05-27 19:28:57            849         29  1.0              \n",
            "prasad22/vehicle-population-statistics                          Vehicle Population Statistics                        44KB  2024-05-25 03:31:34           1013         31  1.0              \n",
            "prasad22/weather-data                                           Weather Data                                         43MB  2024-05-18 14:27:35           2212         50  1.0              \n",
            "hamjashaikh/mental-health-detection-dataset                     Mental Health Detection Dataset                       3KB  2024-05-29 07:09:37            957         27  0.88235295       \n",
            "bhargavlc/studentsperformance                                   StudentsPerformance                                   3KB  2024-05-28 09:44:50           1657         32  1.0              \n",
            "mayankanand2701/netflix-stock-price-dataset                     Netflix Stock Price Dataset 🎥🍿🎬📊                    107KB  2024-05-25 06:59:35            805         35  1.0              \n",
            "kanchana1990/perfume-e-commerce-dataset-2024                    Perfume E-Commerce Dataset 2024                     106KB  2024-05-24 18:53:32            954         34  1.0              \n",
            "sarahjeffreson/featured-spotify-artiststracks-with-metadata     Featured Spotify artists/tracks with metadata         5MB  2024-05-15 19:38:13            832         31  1.0              \n"
          ]
        }
      ],
      "source": [
        "!kaggle datasets list"
      ]
    },
    {
      "cell_type": "code",
      "execution_count": null,
      "metadata": {
        "id": "EXOHp2jp3kmI",
        "colab": {
          "base_uri": "https://localhost:8080/"
        },
        "outputId": "236a8b0a-ebfc-4093-863e-79e449162e73"
      },
      "outputs": [
        {
          "output_type": "stream",
          "name": "stdout",
          "text": [
            "Dataset URL: https://www.kaggle.com/datasets/fuadkahfi/dataset-tanah\n",
            "License(s): unknown\n",
            "dataset-tanah.zip: Skipping, found more recently modified local copy (use --force to force download)\n"
          ]
        }
      ],
      "source": [
        "!kaggle datasets download -d 'fuadkahfi/dataset-tanah'"
      ]
    },
    {
      "cell_type": "code",
      "execution_count": null,
      "metadata": {
        "id": "pjOwiRWIynkX"
      },
      "outputs": [],
      "source": [
        "import zipfile"
      ]
    },
    {
      "cell_type": "code",
      "execution_count": null,
      "metadata": {
        "id": "_T6ZdSO21nSZ"
      },
      "outputs": [],
      "source": [
        "dataset_zip = zipfile.ZipFile('dataset-tanah.zip', 'r')\n",
        "\n",
        "dataset_zip.extractall()\n",
        "\n",
        "dataset_zip.close()"
      ]
    },
    {
      "cell_type": "code",
      "execution_count": null,
      "metadata": {
        "id": "sxAksuGNzEIm"
      },
      "outputs": [],
      "source": [
        "import tensorflow as tf\n",
        "from tensorflow.keras.preprocessing.image import ImageDataGenerator\n",
        "from tensorflow.keras.models import Sequential\n",
        "from tensorflow.keras.layers import Conv2D, MaxPooling2D, Flatten, Dense, Dropout, GlobalAveragePooling2D\n",
        "from tensorflow.keras.optimizers import Adam\n",
        "import os\n",
        "\n",
        "from tensorflow.keras.applications import Xception"
      ]
    },
    {
      "cell_type": "code",
      "execution_count": null,
      "metadata": {
        "id": "_23WUC137JHj",
        "colab": {
          "base_uri": "https://localhost:8080/"
        },
        "outputId": "1fb746b8-3734-4163-90c5-8adf23e8dd4e"
      },
      "outputs": [
        {
          "output_type": "stream",
          "name": "stdout",
          "text": [
            "Found 792 images belonging to 8 classes.\n",
            "Found 88 images belonging to 8 classes.\n"
          ]
        }
      ],
      "source": [
        "# Direktori dataset setelah ekstraksi\n",
        "base_dir = 'Tanah'\n",
        "\n",
        "# Pengaturan untuk ImageDataGenerator\n",
        "train_datagen = ImageDataGenerator(\n",
        "    rescale=1./255,\n",
        "    rotation_range=30,\n",
        "    width_shift_range=0.3,\n",
        "    height_shift_range=0.3,\n",
        "    shear_range=0.3,\n",
        "    zoom_range=0.3,\n",
        "    horizontal_flip=True,\n",
        "    fill_mode='nearest',\n",
        "    validation_split=0.1  # Membagi 10% data untuk validasi\n",
        ")\n",
        "\n",
        "train_generator = train_datagen.flow_from_directory(\n",
        "    base_dir,\n",
        "    target_size=(150, 150),  # Ukuran gambar yang akan diubah\n",
        "    batch_size=32,\n",
        "    class_mode='categorical',\n",
        "    subset='training'\n",
        ")\n",
        "\n",
        "validation_generator = train_datagen.flow_from_directory(\n",
        "    base_dir,\n",
        "    target_size=(150, 150),\n",
        "    batch_size=32,\n",
        "    class_mode='categorical',\n",
        "    subset='validation'\n",
        ")\n"
      ]
    },
    {
      "cell_type": "code",
      "execution_count": null,
      "metadata": {
        "id": "QrREBq0NuTto"
      },
      "outputs": [],
      "source": [
        "# Load Xception base model\n",
        "base_model = Xception(weights='imagenet', include_top=False, input_shape=(150, 150, 3))"
      ]
    },
    {
      "cell_type": "code",
      "execution_count": null,
      "metadata": {
        "collapsed": true,
        "id": "sv-eNzRPPh6y",
        "colab": {
          "base_uri": "https://localhost:8080/"
        },
        "outputId": "5be0c096-7595-4233-da84-6187765efdf0"
      },
      "outputs": [
        {
          "output_type": "stream",
          "name": "stdout",
          "text": [
            "Model: \"xception\"\n",
            "__________________________________________________________________________________________________\n",
            " Layer (type)                Output Shape                 Param #   Connected to                  \n",
            "==================================================================================================\n",
            " input_2 (InputLayer)        [(None, 150, 150, 3)]        0         []                            \n",
            "                                                                                                  \n",
            " block1_conv1 (Conv2D)       (None, 74, 74, 32)           864       ['input_2[0][0]']             \n",
            "                                                                                                  \n",
            " block1_conv1_bn (BatchNorm  (None, 74, 74, 32)           128       ['block1_conv1[0][0]']        \n",
            " alization)                                                                                       \n",
            "                                                                                                  \n",
            " block1_conv1_act (Activati  (None, 74, 74, 32)           0         ['block1_conv1_bn[0][0]']     \n",
            " on)                                                                                              \n",
            "                                                                                                  \n",
            " block1_conv2 (Conv2D)       (None, 72, 72, 64)           18432     ['block1_conv1_act[0][0]']    \n",
            "                                                                                                  \n",
            " block1_conv2_bn (BatchNorm  (None, 72, 72, 64)           256       ['block1_conv2[0][0]']        \n",
            " alization)                                                                                       \n",
            "                                                                                                  \n",
            " block1_conv2_act (Activati  (None, 72, 72, 64)           0         ['block1_conv2_bn[0][0]']     \n",
            " on)                                                                                              \n",
            "                                                                                                  \n",
            " block2_sepconv1 (Separable  (None, 72, 72, 128)          8768      ['block1_conv2_act[0][0]']    \n",
            " Conv2D)                                                                                          \n",
            "                                                                                                  \n",
            " block2_sepconv1_bn (BatchN  (None, 72, 72, 128)          512       ['block2_sepconv1[0][0]']     \n",
            " ormalization)                                                                                    \n",
            "                                                                                                  \n",
            " block2_sepconv2_act (Activ  (None, 72, 72, 128)          0         ['block2_sepconv1_bn[0][0]']  \n",
            " ation)                                                                                           \n",
            "                                                                                                  \n",
            " block2_sepconv2 (Separable  (None, 72, 72, 128)          17536     ['block2_sepconv2_act[0][0]'] \n",
            " Conv2D)                                                                                          \n",
            "                                                                                                  \n",
            " block2_sepconv2_bn (BatchN  (None, 72, 72, 128)          512       ['block2_sepconv2[0][0]']     \n",
            " ormalization)                                                                                    \n",
            "                                                                                                  \n",
            " conv2d_4 (Conv2D)           (None, 36, 36, 128)          8192      ['block1_conv2_act[0][0]']    \n",
            "                                                                                                  \n",
            " block2_pool (MaxPooling2D)  (None, 36, 36, 128)          0         ['block2_sepconv2_bn[0][0]']  \n",
            "                                                                                                  \n",
            " batch_normalization_4 (Bat  (None, 36, 36, 128)          512       ['conv2d_4[0][0]']            \n",
            " chNormalization)                                                                                 \n",
            "                                                                                                  \n",
            " add_12 (Add)                (None, 36, 36, 128)          0         ['block2_pool[0][0]',         \n",
            "                                                                     'batch_normalization_4[0][0]'\n",
            "                                                                    ]                             \n",
            "                                                                                                  \n",
            " block3_sepconv1_act (Activ  (None, 36, 36, 128)          0         ['add_12[0][0]']              \n",
            " ation)                                                                                           \n",
            "                                                                                                  \n",
            " block3_sepconv1 (Separable  (None, 36, 36, 256)          33920     ['block3_sepconv1_act[0][0]'] \n",
            " Conv2D)                                                                                          \n",
            "                                                                                                  \n",
            " block3_sepconv1_bn (BatchN  (None, 36, 36, 256)          1024      ['block3_sepconv1[0][0]']     \n",
            " ormalization)                                                                                    \n",
            "                                                                                                  \n",
            " block3_sepconv2_act (Activ  (None, 36, 36, 256)          0         ['block3_sepconv1_bn[0][0]']  \n",
            " ation)                                                                                           \n",
            "                                                                                                  \n",
            " block3_sepconv2 (Separable  (None, 36, 36, 256)          67840     ['block3_sepconv2_act[0][0]'] \n",
            " Conv2D)                                                                                          \n",
            "                                                                                                  \n",
            " block3_sepconv2_bn (BatchN  (None, 36, 36, 256)          1024      ['block3_sepconv2[0][0]']     \n",
            " ormalization)                                                                                    \n",
            "                                                                                                  \n",
            " conv2d_5 (Conv2D)           (None, 18, 18, 256)          32768     ['add_12[0][0]']              \n",
            "                                                                                                  \n",
            " block3_pool (MaxPooling2D)  (None, 18, 18, 256)          0         ['block3_sepconv2_bn[0][0]']  \n",
            "                                                                                                  \n",
            " batch_normalization_5 (Bat  (None, 18, 18, 256)          1024      ['conv2d_5[0][0]']            \n",
            " chNormalization)                                                                                 \n",
            "                                                                                                  \n",
            " add_13 (Add)                (None, 18, 18, 256)          0         ['block3_pool[0][0]',         \n",
            "                                                                     'batch_normalization_5[0][0]'\n",
            "                                                                    ]                             \n",
            "                                                                                                  \n",
            " block4_sepconv1_act (Activ  (None, 18, 18, 256)          0         ['add_13[0][0]']              \n",
            " ation)                                                                                           \n",
            "                                                                                                  \n",
            " block4_sepconv1 (Separable  (None, 18, 18, 728)          188672    ['block4_sepconv1_act[0][0]'] \n",
            " Conv2D)                                                                                          \n",
            "                                                                                                  \n",
            " block4_sepconv1_bn (BatchN  (None, 18, 18, 728)          2912      ['block4_sepconv1[0][0]']     \n",
            " ormalization)                                                                                    \n",
            "                                                                                                  \n",
            " block4_sepconv2_act (Activ  (None, 18, 18, 728)          0         ['block4_sepconv1_bn[0][0]']  \n",
            " ation)                                                                                           \n",
            "                                                                                                  \n",
            " block4_sepconv2 (Separable  (None, 18, 18, 728)          536536    ['block4_sepconv2_act[0][0]'] \n",
            " Conv2D)                                                                                          \n",
            "                                                                                                  \n",
            " block4_sepconv2_bn (BatchN  (None, 18, 18, 728)          2912      ['block4_sepconv2[0][0]']     \n",
            " ormalization)                                                                                    \n",
            "                                                                                                  \n",
            " conv2d_6 (Conv2D)           (None, 9, 9, 728)            186368    ['add_13[0][0]']              \n",
            "                                                                                                  \n",
            " block4_pool (MaxPooling2D)  (None, 9, 9, 728)            0         ['block4_sepconv2_bn[0][0]']  \n",
            "                                                                                                  \n",
            " batch_normalization_6 (Bat  (None, 9, 9, 728)            2912      ['conv2d_6[0][0]']            \n",
            " chNormalization)                                                                                 \n",
            "                                                                                                  \n",
            " add_14 (Add)                (None, 9, 9, 728)            0         ['block4_pool[0][0]',         \n",
            "                                                                     'batch_normalization_6[0][0]'\n",
            "                                                                    ]                             \n",
            "                                                                                                  \n",
            " block5_sepconv1_act (Activ  (None, 9, 9, 728)            0         ['add_14[0][0]']              \n",
            " ation)                                                                                           \n",
            "                                                                                                  \n",
            " block5_sepconv1 (Separable  (None, 9, 9, 728)            536536    ['block5_sepconv1_act[0][0]'] \n",
            " Conv2D)                                                                                          \n",
            "                                                                                                  \n",
            " block5_sepconv1_bn (BatchN  (None, 9, 9, 728)            2912      ['block5_sepconv1[0][0]']     \n",
            " ormalization)                                                                                    \n",
            "                                                                                                  \n",
            " block5_sepconv2_act (Activ  (None, 9, 9, 728)            0         ['block5_sepconv1_bn[0][0]']  \n",
            " ation)                                                                                           \n",
            "                                                                                                  \n",
            " block5_sepconv2 (Separable  (None, 9, 9, 728)            536536    ['block5_sepconv2_act[0][0]'] \n",
            " Conv2D)                                                                                          \n",
            "                                                                                                  \n",
            " block5_sepconv2_bn (BatchN  (None, 9, 9, 728)            2912      ['block5_sepconv2[0][0]']     \n",
            " ormalization)                                                                                    \n",
            "                                                                                                  \n",
            " block5_sepconv3_act (Activ  (None, 9, 9, 728)            0         ['block5_sepconv2_bn[0][0]']  \n",
            " ation)                                                                                           \n",
            "                                                                                                  \n",
            " block5_sepconv3 (Separable  (None, 9, 9, 728)            536536    ['block5_sepconv3_act[0][0]'] \n",
            " Conv2D)                                                                                          \n",
            "                                                                                                  \n",
            " block5_sepconv3_bn (BatchN  (None, 9, 9, 728)            2912      ['block5_sepconv3[0][0]']     \n",
            " ormalization)                                                                                    \n",
            "                                                                                                  \n",
            " add_15 (Add)                (None, 9, 9, 728)            0         ['block5_sepconv3_bn[0][0]',  \n",
            "                                                                     'add_14[0][0]']              \n",
            "                                                                                                  \n",
            " block6_sepconv1_act (Activ  (None, 9, 9, 728)            0         ['add_15[0][0]']              \n",
            " ation)                                                                                           \n",
            "                                                                                                  \n",
            " block6_sepconv1 (Separable  (None, 9, 9, 728)            536536    ['block6_sepconv1_act[0][0]'] \n",
            " Conv2D)                                                                                          \n",
            "                                                                                                  \n",
            " block6_sepconv1_bn (BatchN  (None, 9, 9, 728)            2912      ['block6_sepconv1[0][0]']     \n",
            " ormalization)                                                                                    \n",
            "                                                                                                  \n",
            " block6_sepconv2_act (Activ  (None, 9, 9, 728)            0         ['block6_sepconv1_bn[0][0]']  \n",
            " ation)                                                                                           \n",
            "                                                                                                  \n",
            " block6_sepconv2 (Separable  (None, 9, 9, 728)            536536    ['block6_sepconv2_act[0][0]'] \n",
            " Conv2D)                                                                                          \n",
            "                                                                                                  \n",
            " block6_sepconv2_bn (BatchN  (None, 9, 9, 728)            2912      ['block6_sepconv2[0][0]']     \n",
            " ormalization)                                                                                    \n",
            "                                                                                                  \n",
            " block6_sepconv3_act (Activ  (None, 9, 9, 728)            0         ['block6_sepconv2_bn[0][0]']  \n",
            " ation)                                                                                           \n",
            "                                                                                                  \n",
            " block6_sepconv3 (Separable  (None, 9, 9, 728)            536536    ['block6_sepconv3_act[0][0]'] \n",
            " Conv2D)                                                                                          \n",
            "                                                                                                  \n",
            " block6_sepconv3_bn (BatchN  (None, 9, 9, 728)            2912      ['block6_sepconv3[0][0]']     \n",
            " ormalization)                                                                                    \n",
            "                                                                                                  \n",
            " add_16 (Add)                (None, 9, 9, 728)            0         ['block6_sepconv3_bn[0][0]',  \n",
            "                                                                     'add_15[0][0]']              \n",
            "                                                                                                  \n",
            " block7_sepconv1_act (Activ  (None, 9, 9, 728)            0         ['add_16[0][0]']              \n",
            " ation)                                                                                           \n",
            "                                                                                                  \n",
            " block7_sepconv1 (Separable  (None, 9, 9, 728)            536536    ['block7_sepconv1_act[0][0]'] \n",
            " Conv2D)                                                                                          \n",
            "                                                                                                  \n",
            " block7_sepconv1_bn (BatchN  (None, 9, 9, 728)            2912      ['block7_sepconv1[0][0]']     \n",
            " ormalization)                                                                                    \n",
            "                                                                                                  \n",
            " block7_sepconv2_act (Activ  (None, 9, 9, 728)            0         ['block7_sepconv1_bn[0][0]']  \n",
            " ation)                                                                                           \n",
            "                                                                                                  \n",
            " block7_sepconv2 (Separable  (None, 9, 9, 728)            536536    ['block7_sepconv2_act[0][0]'] \n",
            " Conv2D)                                                                                          \n",
            "                                                                                                  \n",
            " block7_sepconv2_bn (BatchN  (None, 9, 9, 728)            2912      ['block7_sepconv2[0][0]']     \n",
            " ormalization)                                                                                    \n",
            "                                                                                                  \n",
            " block7_sepconv3_act (Activ  (None, 9, 9, 728)            0         ['block7_sepconv2_bn[0][0]']  \n",
            " ation)                                                                                           \n",
            "                                                                                                  \n",
            " block7_sepconv3 (Separable  (None, 9, 9, 728)            536536    ['block7_sepconv3_act[0][0]'] \n",
            " Conv2D)                                                                                          \n",
            "                                                                                                  \n",
            " block7_sepconv3_bn (BatchN  (None, 9, 9, 728)            2912      ['block7_sepconv3[0][0]']     \n",
            " ormalization)                                                                                    \n",
            "                                                                                                  \n",
            " add_17 (Add)                (None, 9, 9, 728)            0         ['block7_sepconv3_bn[0][0]',  \n",
            "                                                                     'add_16[0][0]']              \n",
            "                                                                                                  \n",
            " block8_sepconv1_act (Activ  (None, 9, 9, 728)            0         ['add_17[0][0]']              \n",
            " ation)                                                                                           \n",
            "                                                                                                  \n",
            " block8_sepconv1 (Separable  (None, 9, 9, 728)            536536    ['block8_sepconv1_act[0][0]'] \n",
            " Conv2D)                                                                                          \n",
            "                                                                                                  \n",
            " block8_sepconv1_bn (BatchN  (None, 9, 9, 728)            2912      ['block8_sepconv1[0][0]']     \n",
            " ormalization)                                                                                    \n",
            "                                                                                                  \n",
            " block8_sepconv2_act (Activ  (None, 9, 9, 728)            0         ['block8_sepconv1_bn[0][0]']  \n",
            " ation)                                                                                           \n",
            "                                                                                                  \n",
            " block8_sepconv2 (Separable  (None, 9, 9, 728)            536536    ['block8_sepconv2_act[0][0]'] \n",
            " Conv2D)                                                                                          \n",
            "                                                                                                  \n",
            " block8_sepconv2_bn (BatchN  (None, 9, 9, 728)            2912      ['block8_sepconv2[0][0]']     \n",
            " ormalization)                                                                                    \n",
            "                                                                                                  \n",
            " block8_sepconv3_act (Activ  (None, 9, 9, 728)            0         ['block8_sepconv2_bn[0][0]']  \n",
            " ation)                                                                                           \n",
            "                                                                                                  \n",
            " block8_sepconv3 (Separable  (None, 9, 9, 728)            536536    ['block8_sepconv3_act[0][0]'] \n",
            " Conv2D)                                                                                          \n",
            "                                                                                                  \n",
            " block8_sepconv3_bn (BatchN  (None, 9, 9, 728)            2912      ['block8_sepconv3[0][0]']     \n",
            " ormalization)                                                                                    \n",
            "                                                                                                  \n",
            " add_18 (Add)                (None, 9, 9, 728)            0         ['block8_sepconv3_bn[0][0]',  \n",
            "                                                                     'add_17[0][0]']              \n",
            "                                                                                                  \n",
            " block9_sepconv1_act (Activ  (None, 9, 9, 728)            0         ['add_18[0][0]']              \n",
            " ation)                                                                                           \n",
            "                                                                                                  \n",
            " block9_sepconv1 (Separable  (None, 9, 9, 728)            536536    ['block9_sepconv1_act[0][0]'] \n",
            " Conv2D)                                                                                          \n",
            "                                                                                                  \n",
            " block9_sepconv1_bn (BatchN  (None, 9, 9, 728)            2912      ['block9_sepconv1[0][0]']     \n",
            " ormalization)                                                                                    \n",
            "                                                                                                  \n",
            " block9_sepconv2_act (Activ  (None, 9, 9, 728)            0         ['block9_sepconv1_bn[0][0]']  \n",
            " ation)                                                                                           \n",
            "                                                                                                  \n",
            " block9_sepconv2 (Separable  (None, 9, 9, 728)            536536    ['block9_sepconv2_act[0][0]'] \n",
            " Conv2D)                                                                                          \n",
            "                                                                                                  \n",
            " block9_sepconv2_bn (BatchN  (None, 9, 9, 728)            2912      ['block9_sepconv2[0][0]']     \n",
            " ormalization)                                                                                    \n",
            "                                                                                                  \n",
            " block9_sepconv3_act (Activ  (None, 9, 9, 728)            0         ['block9_sepconv2_bn[0][0]']  \n",
            " ation)                                                                                           \n",
            "                                                                                                  \n",
            " block9_sepconv3 (Separable  (None, 9, 9, 728)            536536    ['block9_sepconv3_act[0][0]'] \n",
            " Conv2D)                                                                                          \n",
            "                                                                                                  \n",
            " block9_sepconv3_bn (BatchN  (None, 9, 9, 728)            2912      ['block9_sepconv3[0][0]']     \n",
            " ormalization)                                                                                    \n",
            "                                                                                                  \n",
            " add_19 (Add)                (None, 9, 9, 728)            0         ['block9_sepconv3_bn[0][0]',  \n",
            "                                                                     'add_18[0][0]']              \n",
            "                                                                                                  \n",
            " block10_sepconv1_act (Acti  (None, 9, 9, 728)            0         ['add_19[0][0]']              \n",
            " vation)                                                                                          \n",
            "                                                                                                  \n",
            " block10_sepconv1 (Separabl  (None, 9, 9, 728)            536536    ['block10_sepconv1_act[0][0]']\n",
            " eConv2D)                                                                                         \n",
            "                                                                                                  \n",
            " block10_sepconv1_bn (Batch  (None, 9, 9, 728)            2912      ['block10_sepconv1[0][0]']    \n",
            " Normalization)                                                                                   \n",
            "                                                                                                  \n",
            " block10_sepconv2_act (Acti  (None, 9, 9, 728)            0         ['block10_sepconv1_bn[0][0]'] \n",
            " vation)                                                                                          \n",
            "                                                                                                  \n",
            " block10_sepconv2 (Separabl  (None, 9, 9, 728)            536536    ['block10_sepconv2_act[0][0]']\n",
            " eConv2D)                                                                                         \n",
            "                                                                                                  \n",
            " block10_sepconv2_bn (Batch  (None, 9, 9, 728)            2912      ['block10_sepconv2[0][0]']    \n",
            " Normalization)                                                                                   \n",
            "                                                                                                  \n",
            " block10_sepconv3_act (Acti  (None, 9, 9, 728)            0         ['block10_sepconv2_bn[0][0]'] \n",
            " vation)                                                                                          \n",
            "                                                                                                  \n",
            " block10_sepconv3 (Separabl  (None, 9, 9, 728)            536536    ['block10_sepconv3_act[0][0]']\n",
            " eConv2D)                                                                                         \n",
            "                                                                                                  \n",
            " block10_sepconv3_bn (Batch  (None, 9, 9, 728)            2912      ['block10_sepconv3[0][0]']    \n",
            " Normalization)                                                                                   \n",
            "                                                                                                  \n",
            " add_20 (Add)                (None, 9, 9, 728)            0         ['block10_sepconv3_bn[0][0]', \n",
            "                                                                     'add_19[0][0]']              \n",
            "                                                                                                  \n",
            " block11_sepconv1_act (Acti  (None, 9, 9, 728)            0         ['add_20[0][0]']              \n",
            " vation)                                                                                          \n",
            "                                                                                                  \n",
            " block11_sepconv1 (Separabl  (None, 9, 9, 728)            536536    ['block11_sepconv1_act[0][0]']\n",
            " eConv2D)                                                                                         \n",
            "                                                                                                  \n",
            " block11_sepconv1_bn (Batch  (None, 9, 9, 728)            2912      ['block11_sepconv1[0][0]']    \n",
            " Normalization)                                                                                   \n",
            "                                                                                                  \n",
            " block11_sepconv2_act (Acti  (None, 9, 9, 728)            0         ['block11_sepconv1_bn[0][0]'] \n",
            " vation)                                                                                          \n",
            "                                                                                                  \n",
            " block11_sepconv2 (Separabl  (None, 9, 9, 728)            536536    ['block11_sepconv2_act[0][0]']\n",
            " eConv2D)                                                                                         \n",
            "                                                                                                  \n",
            " block11_sepconv2_bn (Batch  (None, 9, 9, 728)            2912      ['block11_sepconv2[0][0]']    \n",
            " Normalization)                                                                                   \n",
            "                                                                                                  \n",
            " block11_sepconv3_act (Acti  (None, 9, 9, 728)            0         ['block11_sepconv2_bn[0][0]'] \n",
            " vation)                                                                                          \n",
            "                                                                                                  \n",
            " block11_sepconv3 (Separabl  (None, 9, 9, 728)            536536    ['block11_sepconv3_act[0][0]']\n",
            " eConv2D)                                                                                         \n",
            "                                                                                                  \n",
            " block11_sepconv3_bn (Batch  (None, 9, 9, 728)            2912      ['block11_sepconv3[0][0]']    \n",
            " Normalization)                                                                                   \n",
            "                                                                                                  \n",
            " add_21 (Add)                (None, 9, 9, 728)            0         ['block11_sepconv3_bn[0][0]', \n",
            "                                                                     'add_20[0][0]']              \n",
            "                                                                                                  \n",
            " block12_sepconv1_act (Acti  (None, 9, 9, 728)            0         ['add_21[0][0]']              \n",
            " vation)                                                                                          \n",
            "                                                                                                  \n",
            " block12_sepconv1 (Separabl  (None, 9, 9, 728)            536536    ['block12_sepconv1_act[0][0]']\n",
            " eConv2D)                                                                                         \n",
            "                                                                                                  \n",
            " block12_sepconv1_bn (Batch  (None, 9, 9, 728)            2912      ['block12_sepconv1[0][0]']    \n",
            " Normalization)                                                                                   \n",
            "                                                                                                  \n",
            " block12_sepconv2_act (Acti  (None, 9, 9, 728)            0         ['block12_sepconv1_bn[0][0]'] \n",
            " vation)                                                                                          \n",
            "                                                                                                  \n",
            " block12_sepconv2 (Separabl  (None, 9, 9, 728)            536536    ['block12_sepconv2_act[0][0]']\n",
            " eConv2D)                                                                                         \n",
            "                                                                                                  \n",
            " block12_sepconv2_bn (Batch  (None, 9, 9, 728)            2912      ['block12_sepconv2[0][0]']    \n",
            " Normalization)                                                                                   \n",
            "                                                                                                  \n",
            " block12_sepconv3_act (Acti  (None, 9, 9, 728)            0         ['block12_sepconv2_bn[0][0]'] \n",
            " vation)                                                                                          \n",
            "                                                                                                  \n",
            " block12_sepconv3 (Separabl  (None, 9, 9, 728)            536536    ['block12_sepconv3_act[0][0]']\n",
            " eConv2D)                                                                                         \n",
            "                                                                                                  \n",
            " block12_sepconv3_bn (Batch  (None, 9, 9, 728)            2912      ['block12_sepconv3[0][0]']    \n",
            " Normalization)                                                                                   \n",
            "                                                                                                  \n",
            " add_22 (Add)                (None, 9, 9, 728)            0         ['block12_sepconv3_bn[0][0]', \n",
            "                                                                     'add_21[0][0]']              \n",
            "                                                                                                  \n",
            " block13_sepconv1_act (Acti  (None, 9, 9, 728)            0         ['add_22[0][0]']              \n",
            " vation)                                                                                          \n",
            "                                                                                                  \n",
            " block13_sepconv1 (Separabl  (None, 9, 9, 728)            536536    ['block13_sepconv1_act[0][0]']\n",
            " eConv2D)                                                                                         \n",
            "                                                                                                  \n",
            " block13_sepconv1_bn (Batch  (None, 9, 9, 728)            2912      ['block13_sepconv1[0][0]']    \n",
            " Normalization)                                                                                   \n",
            "                                                                                                  \n",
            " block13_sepconv2_act (Acti  (None, 9, 9, 728)            0         ['block13_sepconv1_bn[0][0]'] \n",
            " vation)                                                                                          \n",
            "                                                                                                  \n",
            " block13_sepconv2 (Separabl  (None, 9, 9, 1024)           752024    ['block13_sepconv2_act[0][0]']\n",
            " eConv2D)                                                                                         \n",
            "                                                                                                  \n",
            " block13_sepconv2_bn (Batch  (None, 9, 9, 1024)           4096      ['block13_sepconv2[0][0]']    \n",
            " Normalization)                                                                                   \n",
            "                                                                                                  \n",
            " conv2d_7 (Conv2D)           (None, 5, 5, 1024)           745472    ['add_22[0][0]']              \n",
            "                                                                                                  \n",
            " block13_pool (MaxPooling2D  (None, 5, 5, 1024)           0         ['block13_sepconv2_bn[0][0]'] \n",
            " )                                                                                                \n",
            "                                                                                                  \n",
            " batch_normalization_7 (Bat  (None, 5, 5, 1024)           4096      ['conv2d_7[0][0]']            \n",
            " chNormalization)                                                                                 \n",
            "                                                                                                  \n",
            " add_23 (Add)                (None, 5, 5, 1024)           0         ['block13_pool[0][0]',        \n",
            "                                                                     'batch_normalization_7[0][0]'\n",
            "                                                                    ]                             \n",
            "                                                                                                  \n",
            " block14_sepconv1 (Separabl  (None, 5, 5, 1536)           1582080   ['add_23[0][0]']              \n",
            " eConv2D)                                                                                         \n",
            "                                                                                                  \n",
            " block14_sepconv1_bn (Batch  (None, 5, 5, 1536)           6144      ['block14_sepconv1[0][0]']    \n",
            " Normalization)                                                                                   \n",
            "                                                                                                  \n",
            " block14_sepconv1_act (Acti  (None, 5, 5, 1536)           0         ['block14_sepconv1_bn[0][0]'] \n",
            " vation)                                                                                          \n",
            "                                                                                                  \n",
            " block14_sepconv2 (Separabl  (None, 5, 5, 2048)           3159552   ['block14_sepconv1_act[0][0]']\n",
            " eConv2D)                                                                                         \n",
            "                                                                                                  \n",
            " block14_sepconv2_bn (Batch  (None, 5, 5, 2048)           8192      ['block14_sepconv2[0][0]']    \n",
            " Normalization)                                                                                   \n",
            "                                                                                                  \n",
            " block14_sepconv2_act (Acti  (None, 5, 5, 2048)           0         ['block14_sepconv2_bn[0][0]'] \n",
            " vation)                                                                                          \n",
            "                                                                                                  \n",
            "==================================================================================================\n",
            "Total params: 20861480 (79.58 MB)\n",
            "Trainable params: 20806952 (79.37 MB)\n",
            "Non-trainable params: 54528 (213.00 KB)\n",
            "__________________________________________________________________________________________________\n"
          ]
        }
      ],
      "source": [
        "base_model.summary()"
      ]
    },
    {
      "cell_type": "code",
      "execution_count": null,
      "metadata": {
        "id": "tq4XYZ7SuaPG"
      },
      "outputs": [],
      "source": [
        "# freeze or not the base model\n",
        "for layer in base_model.layers:\n",
        "    layer.trainable = False"
      ]
    },
    {
      "cell_type": "code",
      "execution_count": null,
      "metadata": {
        "id": "3Yi2KWw3uynj"
      },
      "outputs": [],
      "source": [
        "# # Fine tuning\n",
        "# # pilih salah satu\n",
        "# # layer awal - 100\n",
        "# for layer in base_model.layers[:100]:\n",
        "#     layer.trainable = False\n",
        "\n",
        "# # dari layer 100 hingga akhir\n",
        "# for layer in base_model.layers[100:]:\n",
        "#     layer.trainable = True"
      ]
    },
    {
      "cell_type": "code",
      "execution_count": null,
      "metadata": {
        "id": "mJhadm9y7ONv"
      },
      "outputs": [],
      "source": [
        "from tensorflow.keras.layers import BatchNormalization\n",
        "\n",
        "model = Sequential([\n",
        "    base_model,\n",
        "    GlobalAveragePooling2D(),\n",
        "    Flatten(),\n",
        "    Dense(512, activation='relu'),\n",
        "    # Dropout(0.5),\n",
        "    Dense(train_generator.num_classes, activation='softmax')\n",
        "])\n",
        "\n",
        "model.compile(\n",
        "    loss='categorical_crossentropy',\n",
        "    optimizer='adam',\n",
        "    metrics=['accuracy']\n",
        ")\n"
      ]
    },
    {
      "cell_type": "code",
      "execution_count": null,
      "metadata": {
        "id": "Uj5hgyQFvFH6",
        "colab": {
          "base_uri": "https://localhost:8080/"
        },
        "outputId": "f5bc36d7-72a1-4c7e-fc83-80770dfb63fc"
      },
      "outputs": [
        {
          "output_type": "stream",
          "name": "stdout",
          "text": [
            "Model: \"sequential_1\"\n",
            "_________________________________________________________________\n",
            " Layer (type)                Output Shape              Param #   \n",
            "=================================================================\n",
            " xception (Functional)       (None, 5, 5, 2048)        20861480  \n",
            "                                                                 \n",
            " global_average_pooling2d_1  (None, 2048)              0         \n",
            "  (GlobalAveragePooling2D)                                       \n",
            "                                                                 \n",
            " flatten_1 (Flatten)         (None, 2048)              0         \n",
            "                                                                 \n",
            " dense_2 (Dense)             (None, 512)               1049088   \n",
            "                                                                 \n",
            " dense_3 (Dense)             (None, 8)                 4104      \n",
            "                                                                 \n",
            "=================================================================\n",
            "Total params: 21914672 (83.60 MB)\n",
            "Trainable params: 1053192 (4.02 MB)\n",
            "Non-trainable params: 20861480 (79.58 MB)\n",
            "_________________________________________________________________\n"
          ]
        }
      ],
      "source": [
        "model.summary()"
      ]
    },
    {
      "cell_type": "code",
      "execution_count": null,
      "metadata": {
        "id": "msy9p31i7X5G",
        "colab": {
          "base_uri": "https://localhost:8080/"
        },
        "outputId": "c274e88f-3c81-403d-e4b9-f8fe6abe6566"
      },
      "outputs": [
        {
          "output_type": "stream",
          "name": "stdout",
          "text": [
            "Epoch 1/50\n",
            "24/24 [==============================] - 95s 3s/step - loss: 1.6337 - accuracy: 0.4039 - val_loss: 1.1792 - val_accuracy: 0.5625\n",
            "Epoch 2/50\n",
            "24/24 [==============================] - 75s 3s/step - loss: 1.0880 - accuracy: 0.6250 - val_loss: 0.8466 - val_accuracy: 0.7656\n",
            "Epoch 3/50\n",
            "24/24 [==============================] - 73s 3s/step - loss: 0.9713 - accuracy: 0.6671 - val_loss: 0.8149 - val_accuracy: 0.6719\n",
            "Epoch 4/50\n",
            "24/24 [==============================] - 77s 3s/step - loss: 0.8275 - accuracy: 0.7122 - val_loss: 0.7739 - val_accuracy: 0.7344\n",
            "Epoch 5/50\n",
            "24/24 [==============================] - 72s 3s/step - loss: 0.8682 - accuracy: 0.6934 - val_loss: 0.7964 - val_accuracy: 0.7500\n",
            "Epoch 6/50\n",
            "24/24 [==============================] - 76s 3s/step - loss: 0.7746 - accuracy: 0.7421 - val_loss: 0.6802 - val_accuracy: 0.8125\n",
            "Epoch 7/50\n",
            "24/24 [==============================] - 77s 3s/step - loss: 0.6890 - accuracy: 0.7658 - val_loss: 0.6655 - val_accuracy: 0.8125\n",
            "Epoch 8/50\n",
            "24/24 [==============================] - 77s 3s/step - loss: 0.6534 - accuracy: 0.7882 - val_loss: 0.4996 - val_accuracy: 0.8594\n",
            "Epoch 9/50\n",
            "24/24 [==============================] - 77s 3s/step - loss: 0.6130 - accuracy: 0.8000 - val_loss: 0.4663 - val_accuracy: 0.8594\n",
            "Epoch 10/50\n",
            "24/24 [==============================] - 72s 3s/step - loss: 0.6133 - accuracy: 0.8000 - val_loss: 0.4155 - val_accuracy: 0.8906\n",
            "Epoch 11/50\n",
            "24/24 [==============================] - 77s 3s/step - loss: 0.5768 - accuracy: 0.8013 - val_loss: 0.3596 - val_accuracy: 0.8750\n",
            "Epoch 12/50\n",
            "24/24 [==============================] - 73s 3s/step - loss: 0.5504 - accuracy: 0.8039 - val_loss: 0.5070 - val_accuracy: 0.8750\n",
            "Epoch 13/50\n",
            "24/24 [==============================] - 77s 3s/step - loss: 0.5940 - accuracy: 0.8053 - val_loss: 0.4597 - val_accuracy: 0.9062\n",
            "Epoch 14/50\n",
            "24/24 [==============================] - 73s 3s/step - loss: 0.4842 - accuracy: 0.8145 - val_loss: 0.3634 - val_accuracy: 0.8750\n",
            "Epoch 15/50\n",
            "24/24 [==============================] - 77s 3s/step - loss: 0.4830 - accuracy: 0.8250 - val_loss: 0.3095 - val_accuracy: 0.8906\n",
            "Epoch 16/50\n",
            "24/24 [==============================] - 78s 3s/step - loss: 0.4783 - accuracy: 0.8592 - val_loss: 0.5179 - val_accuracy: 0.8594\n",
            "Epoch 17/50\n",
            "24/24 [==============================] - 73s 3s/step - loss: 0.5426 - accuracy: 0.8026 - val_loss: 0.4772 - val_accuracy: 0.8594\n",
            "Epoch 18/50\n",
            "24/24 [==============================] - 73s 3s/step - loss: 0.5194 - accuracy: 0.8158 - val_loss: 0.2967 - val_accuracy: 0.8906\n",
            "Epoch 19/50\n",
            "24/24 [==============================] - 77s 3s/step - loss: 0.5009 - accuracy: 0.8289 - val_loss: 0.3434 - val_accuracy: 0.9062\n",
            "Epoch 20/50\n",
            "24/24 [==============================] - 72s 3s/step - loss: 0.5167 - accuracy: 0.8329 - val_loss: 0.3773 - val_accuracy: 0.8594\n",
            "Epoch 21/50\n",
            "24/24 [==============================] - 72s 3s/step - loss: 0.4314 - accuracy: 0.8632 - val_loss: 0.5312 - val_accuracy: 0.8125\n",
            "Epoch 22/50\n",
            "24/24 [==============================] - 77s 3s/step - loss: 0.4162 - accuracy: 0.8632 - val_loss: 0.3107 - val_accuracy: 0.9375\n",
            "Epoch 23/50\n",
            "24/24 [==============================] - 77s 3s/step - loss: 0.4485 - accuracy: 0.8513 - val_loss: 0.4127 - val_accuracy: 0.8281\n",
            "Epoch 24/50\n",
            "24/24 [==============================] - 78s 3s/step - loss: 0.4395 - accuracy: 0.8579 - val_loss: 0.4493 - val_accuracy: 0.8281\n",
            "Epoch 25/50\n",
            "24/24 [==============================] - 78s 3s/step - loss: 0.3690 - accuracy: 0.8789 - val_loss: 0.4971 - val_accuracy: 0.8438\n",
            "Epoch 26/50\n",
            "24/24 [==============================] - 77s 3s/step - loss: 0.3848 - accuracy: 0.8697 - val_loss: 0.3635 - val_accuracy: 0.8594\n",
            "Epoch 27/50\n",
            "24/24 [==============================] - 77s 3s/step - loss: 0.4141 - accuracy: 0.8526 - val_loss: 0.3526 - val_accuracy: 0.8438\n",
            "Epoch 28/50\n",
            "24/24 [==============================] - 72s 3s/step - loss: 0.3722 - accuracy: 0.8737 - val_loss: 0.3775 - val_accuracy: 0.9062\n",
            "Epoch 29/50\n",
            "24/24 [==============================] - 77s 3s/step - loss: 0.3760 - accuracy: 0.8882 - val_loss: 0.4663 - val_accuracy: 0.8906\n",
            "Epoch 30/50\n",
            "24/24 [==============================] - 72s 3s/step - loss: 0.3884 - accuracy: 0.8645 - val_loss: 0.3966 - val_accuracy: 0.9062\n",
            "Epoch 31/50\n",
            "24/24 [==============================] - 77s 3s/step - loss: 0.3843 - accuracy: 0.8579 - val_loss: 0.1918 - val_accuracy: 0.9688\n",
            "Epoch 32/50\n",
            "24/24 [==============================] - 72s 3s/step - loss: 0.3509 - accuracy: 0.8776 - val_loss: 0.2642 - val_accuracy: 0.9219\n",
            "Epoch 33/50\n",
            "24/24 [==============================] - 74s 3s/step - loss: 0.3780 - accuracy: 0.8803 - val_loss: 0.4265 - val_accuracy: 0.8906\n",
            "Epoch 34/50\n",
            "24/24 [==============================] - 72s 3s/step - loss: 0.3665 - accuracy: 0.8671 - val_loss: 0.2799 - val_accuracy: 0.9062\n",
            "Epoch 35/50\n",
            "24/24 [==============================] - 72s 3s/step - loss: 0.3380 - accuracy: 0.8974 - val_loss: 0.2347 - val_accuracy: 0.9219\n",
            "Epoch 36/50\n",
            "24/24 [==============================] - 73s 3s/step - loss: 0.4275 - accuracy: 0.8542 - val_loss: 0.4624 - val_accuracy: 0.8125\n",
            "Epoch 37/50\n",
            "24/24 [==============================] - 78s 3s/step - loss: 0.3800 - accuracy: 0.8697 - val_loss: 0.3591 - val_accuracy: 0.8906\n",
            "Epoch 38/50\n",
            "24/24 [==============================] - 77s 3s/step - loss: 0.3263 - accuracy: 0.8984 - val_loss: 0.3819 - val_accuracy: 0.8594\n",
            "Epoch 39/50\n",
            "24/24 [==============================] - 77s 3s/step - loss: 0.3055 - accuracy: 0.8961 - val_loss: 0.3267 - val_accuracy: 0.8906\n",
            "Epoch 40/50\n",
            "24/24 [==============================] - 77s 3s/step - loss: 0.3293 - accuracy: 0.8855 - val_loss: 0.1355 - val_accuracy: 0.9688\n",
            "Epoch 41/50\n",
            "24/24 [==============================] - 73s 3s/step - loss: 0.3605 - accuracy: 0.8803 - val_loss: 0.2274 - val_accuracy: 0.9219\n",
            "Epoch 42/50\n",
            "24/24 [==============================] - 72s 3s/step - loss: 0.3636 - accuracy: 0.8724 - val_loss: 0.4007 - val_accuracy: 0.8594\n",
            "Epoch 43/50\n",
            "24/24 [==============================] - 77s 3s/step - loss: 0.3442 - accuracy: 0.8816 - val_loss: 0.3535 - val_accuracy: 0.9219\n",
            "Epoch 44/50\n",
            "24/24 [==============================] - 72s 3s/step - loss: 0.2603 - accuracy: 0.9092 - val_loss: 0.2073 - val_accuracy: 0.9219\n",
            "Epoch 45/50\n",
            "24/24 [==============================] - 78s 3s/step - loss: 0.2686 - accuracy: 0.9171 - val_loss: 0.3088 - val_accuracy: 0.8750\n",
            "Epoch 46/50\n",
            "24/24 [==============================] - 77s 3s/step - loss: 0.3410 - accuracy: 0.8737 - val_loss: 0.2044 - val_accuracy: 0.9531\n",
            "Epoch 47/50\n",
            "24/24 [==============================] - 72s 3s/step - loss: 0.2866 - accuracy: 0.8987 - val_loss: 0.2867 - val_accuracy: 0.9062\n",
            "Epoch 48/50\n",
            "24/24 [==============================] - 72s 3s/step - loss: 0.3013 - accuracy: 0.9079 - val_loss: 0.4209 - val_accuracy: 0.8594\n",
            "Epoch 49/50\n",
            "24/24 [==============================] - 72s 3s/step - loss: 0.2895 - accuracy: 0.8974 - val_loss: 0.1834 - val_accuracy: 0.9531\n",
            "Epoch 50/50\n",
            "24/24 [==============================] - 77s 3s/step - loss: 0.3044 - accuracy: 0.8829 - val_loss: 0.1888 - val_accuracy: 0.9062\n"
          ]
        }
      ],
      "source": [
        "from tensorflow.keras.callbacks import ReduceLROnPlateau\n",
        "\n",
        "reduce_lr = ReduceLROnPlateau(monitor='val_loss', factor=0.2,\n",
        "                              patience=3, min_lr=0.00001)\n",
        "\n",
        "\n",
        "history = model.fit(\n",
        "    train_generator,\n",
        "    steps_per_epoch=train_generator.samples // train_generator.batch_size,\n",
        "    validation_data=validation_generator,\n",
        "    validation_steps=validation_generator.samples // validation_generator.batch_size,\n",
        "    epochs=50,  # Tambah jumlah epoch\n",
        "    # callbacks=[reduce_lr]\n",
        ")\n"
      ]
    },
    {
      "cell_type": "code",
      "execution_count": null,
      "metadata": {
        "id": "OKBf5n7-ReeF",
        "colab": {
          "base_uri": "https://localhost:8080/",
          "height": 887
        },
        "outputId": "80d4dfdb-98c6-4345-9d69-2e06c035d103"
      },
      "outputs": [
        {
          "output_type": "display_data",
          "data": {
            "text/plain": [
              "<Figure size 640x480 with 1 Axes>"
            ],
            "image/png": "[encoded data removed]"
          },
          "metadata": {}
        },
        {
          "output_type": "display_data",
          "data": {
            "text/plain": [
              "<Figure size 640x480 with 1 Axes>"
            ],
            "image/png": "[encoded data removed]"
          },
          "metadata": {}
        }
      ],
      "source": [
        "import matplotlib.pyplot as plt\n",
        "\n",
        "# Plot the chart for accuracy and loss on both training and validation\n",
        "acc = history.history['accuracy']\n",
        "val_acc = history.history['val_accuracy']\n",
        "loss = history.history['loss']\n",
        "val_loss = history.history['val_loss']\n",
        "\n",
        "epochs = range(len(acc))\n",
        "\n",
        "plt.plot(epochs, acc, 'r', label='Training accuracy')\n",
        "plt.plot(epochs, val_acc, 'b', label='Validation accuracy')\n",
        "plt.title('Training and validation accuracy')\n",
        "plt.legend()\n",
        "plt.figure()\n",
        "\n",
        "plt.plot(epochs, loss, 'r', label='Training Loss')\n",
        "plt.plot(epochs, val_loss, 'b', label='Validation Loss')\n",
        "plt.title('Training and validation loss')\n",
        "plt.legend()\n",
        "\n",
        "plt.show()"
      ]
    },
    {
      "cell_type": "code",
      "execution_count": null,
      "metadata": {
        "id": "RM4kH4qXIwmT",
        "colab": {
          "base_uri": "https://localhost:8080/"
        },
        "outputId": "6d52aeed-414e-4f8b-c697-4a6a7223898f"
      },
      "outputs": [
        {
          "output_type": "stream",
          "name": "stdout",
          "text": [
            "3/3 [==============================] - 8s 3s/step - loss: 0.2871 - accuracy: 0.9318\n",
            "Validation accuracy: 93.18%\n"
          ]
        }
      ],
      "source": [
        "# Evaluasi model\n",
        "loss, accuracy = model.evaluate(validation_generator)\n",
        "print(f'Validation accuracy: {accuracy*100:.2f}%')\n"
      ]
    },
    {
      "cell_type": "code",
      "execution_count": null,
      "metadata": {
        "colab": {
          "base_uri": "https://localhost:8080/",
          "height": 107
        },
        "id": "Mxj7Rsub7Z08",
        "outputId": "be32c12b-bfff-4498-a04a-9b1c7e34cd3b"
      },
      "outputs": [
        {
          "output_type": "display_data",
          "data": {
            "text/plain": [
              "<IPython.core.display.HTML object>"
            ],
            "text/html": [
              "\n",
              "     <input type=\"file\" id=\"files-a5cbe62e-405f-40ec-8f30-209c161bead2\" name=\"files[]\" multiple disabled\n",
              "        style=\"border:none\" />\n",
              "     <output id=\"result-a5cbe62e-405f-40ec-8f30-209c161bead2\">\n",
              "      Upload widget is only available when the cell has been executed in the\n",
              "      current browser session. Please rerun this cell to enable.\n",
              "      </output>\n",
              "      <script>// Copyright 2017 Google LLC\n",
              "//\n",
              "// Licensed under the Apache License, Version 2.0 (the \"License\");\n",
              "// you may not use this file except in compliance with the License.\n",
              "// You may obtain a copy of the License at\n",
              "//\n",
              "//      http://www.apache.org/licenses/LICENSE-2.0\n",
              "//\n",
              "// Unless required by applicable law or agreed to in writing, software\n",
              "// distributed under the License is distributed on an \"AS IS\" BASIS,\n",
              "// WITHOUT WARRANTIES OR CONDITIONS OF ANY KIND, either express or implied.\n",
              "// See the License for the specific language governing permissions and\n",
              "// limitations under the License.\n",
              "\n",
              "/**\n",
              " * @fileoverview Helpers for google.colab Python module.\n",
              " */\n",
              "(function(scope) {\n",
              "function span(text, styleAttributes = {}) {\n",
              "  const element = document.createElement('span');\n",
              "  element.textContent = text;\n",
              "  for (const key of Object.keys(styleAttributes)) {\n",
              "    element.style[key] = styleAttributes[key];\n",
              "  }\n",
              "  return element;\n",
              "}\n",
              "\n",
              "// Max number of bytes which will be uploaded at a time.\n",
              "const MAX_PAYLOAD_SIZE = 100 * 1024;\n",
              "\n",
              "function _uploadFiles(inputId, outputId) {\n",
              "  const steps = uploadFilesStep(inputId, outputId);\n",
              "  const outputElement = document.getElementById(outputId);\n",
              "  // Cache steps on the outputElement to make it available for the next call\n",
              "  // to uploadFilesContinue from Python.\n",
              "  outputElement.steps = steps;\n",
              "\n",
              "  return _uploadFilesContinue(outputId);\n",
              "}\n",
              "\n",
              "// This is roughly an async generator (not supported in the browser yet),\n",
              "// where there are multiple asynchronous steps and the Python side is going\n",
              "// to poll for completion of each step.\n",
              "// This uses a Promise to block the python side on completion of each step,\n",
              "// then passes the result of the previous step as the input to the next step.\n",
              "function _uploadFilesContinue(outputId) {\n",
              "  const outputElement = document.getElementById(outputId);\n",
              "  const steps = outputElement.steps;\n",
              "\n",
              "  const next = steps.next(outputElement.lastPromiseValue);\n",
              "  return Promise.resolve(next.value.promise).then((value) => {\n",
              "    // Cache the last promise value to make it available to the next\n",
              "    // step of the generator.\n",
              "    outputElement.lastPromiseValue = value;\n",
              "    return next.value.response;\n",
              "  });\n",
              "}\n",
              "\n",
              "/**\n",
              " * Generator function which is called between each async step of the upload\n",
              " * process.\n",
              " * @param {string} inputId Element ID of the input file picker element.\n",
              " * @param {string} outputId Element ID of the output display.\n",
              " * @return {!Iterable<!Object>} Iterable of next steps.\n",
              " */\n",
              "function* uploadFilesStep(inputId, outputId) {\n",
              "  const inputElement = document.getElementById(inputId);\n",
              "  inputElement.disabled = false;\n",
              "\n",
              "  const outputElement = document.getElementById(outputId);\n",
              "  outputElement.innerHTML = '';\n",
              "\n",
              "  const pickedPromise = new Promise((resolve) => {\n",
              "    inputElement.addEventListener('change', (e) => {\n",
              "      resolve(e.target.files);\n",
              "    });\n",
              "  });\n",
              "\n",
              "  const cancel = document.createElement('button');\n",
              "  inputElement.parentElement.appendChild(cancel);\n",
              "  cancel.textContent = 'Cancel upload';\n",
              "  const cancelPromise = new Promise((resolve) => {\n",
              "    cancel.onclick = () => {\n",
              "      resolve(null);\n",
              "    };\n",
              "  });\n",
              "\n",
              "  // Wait for the user to pick the files.\n",
              "  const files = yield {\n",
              "    promise: Promise.race([pickedPromise, cancelPromise]),\n",
              "    response: {\n",
              "      action: 'starting',\n",
              "    }\n",
              "  };\n",
              "\n",
              "  cancel.remove();\n",
              "\n",
              "  // Disable the input element since further picks are not allowed.\n",
              "  inputElement.disabled = true;\n",
              "\n",
              "  if (!files) {\n",
              "    return {\n",
              "      response: {\n",
              "        action: 'complete',\n",
              "      }\n",
              "    };\n",
              "  }\n",
              "\n",
              "  for (const file of files) {\n",
              "    const li = document.createElement('li');\n",
              "    li.append(span(file.name, {fontWeight: 'bold'}));\n",
              "    li.append(span(\n",
              "        `(${file.type || 'n/a'}) - ${file.size} bytes, ` +\n",
              "        `last modified: ${\n",
              "            file.lastModifiedDate ? file.lastModifiedDate.toLocaleDateString() :\n",
              "                                    'n/a'} - `));\n",
              "    const percent = span('0% done');\n",
              "    li.appendChild(percent);\n",
              "\n",
              "    outputElement.appendChild(li);\n",
              "\n",
              "    const fileDataPromise = new Promise((resolve) => {\n",
              "      const reader = new FileReader();\n",
              "      reader.onload = (e) => {\n",
              "        resolve(e.target.result);\n",
              "      };\n",
              "      reader.readAsArrayBuffer(file);\n",
              "    });\n",
              "    // Wait for the data to be ready.\n",
              "    let fileData = yield {\n",
              "      promise: fileDataPromise,\n",
              "      response: {\n",
              "        action: 'continue',\n",
              "      }\n",
              "    };\n",
              "\n",
              "    // Use a chunked sending to avoid message size limits. See b/62115660.\n",
              "    let position = 0;\n",
              "    do {\n",
              "      const length = Math.min(fileData.byteLength - position, MAX_PAYLOAD_SIZE);\n",
              "      const chunk = new Uint8Array(fileData, position, length);\n",
              "      position += length;\n",
              "\n",
              "      const base64 = btoa(String.fromCharCode.apply(null, chunk));\n",
              "      yield {\n",
              "        response: {\n",
              "          action: 'append',\n",
              "          file: file.name,\n",
              "          data: base64,\n",
              "        },\n",
              "      };\n",
              "\n",
              "      let percentDone = fileData.byteLength === 0 ?\n",
              "          100 :\n",
              "          Math.round((position / fileData.byteLength) * 100);\n",
              "      percent.textContent = `${percentDone}% done`;\n",
              "\n",
              "    } while (position < fileData.byteLength);\n",
              "  }\n",
              "\n",
              "  // All done.\n",
              "  yield {\n",
              "    response: {\n",
              "      action: 'complete',\n",
              "    }\n",
              "  };\n",
              "}\n",
              "\n",
              "scope.google = scope.google || {};\n",
              "scope.google.colab = scope.google.colab || {};\n",
              "scope.google.colab._files = {\n",
              "  _uploadFiles,\n",
              "  _uploadFilesContinue,\n",
              "};\n",
              "})(self);\n",
              "</script> "
            ]
          },
          "metadata": {}
        },
        {
          "output_type": "stream",
          "name": "stdout",
          "text": [
            "Saving test_pasir.jpeg to test_pasir.jpeg\n",
            "1/1 [==============================] - 2s 2s/step\n",
            "The predicted class is: 02-Andosol\n"
          ]
        }
      ],
      "source": [
        "# Membuat prediksi\n",
        "import numpy as np\n",
        "from tensorflow.keras.preprocessing import image\n",
        "\n",
        "def predict_image(img_path):\n",
        "    # Muat dan proses gambar\n",
        "    img = image.load_img(img_path, target_size=(150, 150))\n",
        "    img_array = image.img_to_array(img)\n",
        "    img_array = np.expand_dims(img_array, axis=0) / 255.0\n",
        "\n",
        "    # Prediksi gambar\n",
        "    prediction = model.predict(img_array)\n",
        "    class_idx = np.argmax(prediction)\n",
        "    class_labels = list(train_generator.class_indices.keys())\n",
        "    return class_labels[class_idx]\n",
        "\n",
        "# Contoh prediksi\n",
        "img_test = files.upload()   # Ganti dengan path gambar yang ingin diprediksi\n",
        "for filename in img_test.keys():\n",
        "  predicted_class = predict_image(filename)\n",
        "  print(f'The predicted class is: {predicted_class}')\n"
      ]
    },
    {
      "cell_type": "markdown",
      "source": [
        "Export Model"
      ],
      "metadata": {
        "id": "Tg5rJciXSTx2"
      }
    },
    {
      "cell_type": "code",
      "execution_count": null,
      "metadata": {
        "id": "LnS5UFG2BrUk"
      },
      "outputs": [],
      "source": [
        "IMAGE_PROCESSING_TANAH_MODEL = 'image_processing_tanah_2'"
      ]
    },
    {
      "cell_type": "code",
      "source": [
        "# Save ke .h5\n",
        "model.save('image_processing_tanah_2.h5')"
      ],
      "metadata": {
        "colab": {
          "base_uri": "https://localhost:8080/"
        },
        "id": "pGanqhMbTpta",
        "outputId": "be8c8dea-3446-42d5-fb40-872b6b1fb39e"
      },
      "execution_count": null,
      "outputs": [
        {
          "output_type": "stream",
          "name": "stderr",
          "text": [
            "/usr/local/lib/python3.10/dist-packages/keras/src/engine/training.py:3103: UserWarning: You are saving your model as an HDF5 file via `model.save()`. This file format is considered legacy. We recommend using instead the native Keras format, e.g. `model.save('my_model.keras')`.\n",
            "  saving_api.save_model(\n"
          ]
        }
      ]
    },
    {
      "cell_type": "code",
      "source": [
        "tf.saved_model.save(model, IMAGE_PROCESSING_TANAH_MODEL)"
      ],
      "metadata": {
        "id": "_OLu6PYI4IR7"
      },
      "execution_count": null,
      "outputs": []
    },
    {
      "cell_type": "markdown",
      "source": [
        "Convert to tf.lite"
      ],
      "metadata": {
        "id": "U5wQHVo95j0X"
      }
    },
    {
      "cell_type": "code",
      "source": [
        "converter = tf.lite.TFLiteConverter.from_saved_model(IMAGE_PROCESSING_TANAH_MODEL)"
      ],
      "metadata": {
        "id": "jvsl_C3U5Ztz"
      },
      "execution_count": null,
      "outputs": []
    },
    {
      "cell_type": "code",
      "source": [
        "# Select mode of optimization\n",
        "mode = \"\"\n",
        "\n",
        "if mode == 'Storage':\n",
        "    optimization = tf.lite.Optimize.OPTIMIZE_FOR_SIZE\n",
        "elif mode == 'Speed':\n",
        "    optimization = tf.lite.Optimize.OPTIMIZE_FOR_LATENCY\n",
        "else:\n",
        "    optimization = tf.lite.Optimize.DEFAULT"
      ],
      "metadata": {
        "id": "jS7Kn6cb6daI"
      },
      "execution_count": null,
      "outputs": []
    },
    {
      "cell_type": "code",
      "source": [
        "converter = tf.lite.TFLiteConverter.from_saved_model(IMAGE_PROCESSING_TANAH_MODEL)\n",
        "\n",
        "# Set the optimzations\n",
        "converter.optimizations = [optimization]\n",
        "\n",
        "# Invoke the converter to finally generate the TFLite model\n",
        "tflite_model = converter.convert()"
      ],
      "metadata": {
        "id": "Co8mHW616hbX"
      },
      "execution_count": null,
      "outputs": []
    },
    {
      "cell_type": "code",
      "source": [
        "tflite_model_file = 'image_processing_tanah_3.tflite'\n",
        "with open (tflite_model_file, 'wb') as f:\n",
        "  f.write(tflite_model)"
      ],
      "metadata": {
        "id": "1MUf49V46zDj"
      },
      "execution_count": null,
      "outputs": []
    },
    {
      "cell_type": "markdown",
      "source": [
        "Menambahkan Metadata"
      ],
      "metadata": {
        "id": "osRcpPclNp8R"
      }
    },
    {
      "cell_type": "code",
      "source": [
        "# Install TensorFlow Lite Support Library\n",
        "!pip install tflite-support\n"
      ],
      "metadata": {
        "colab": {
          "base_uri": "https://localhost:8080/"
        },
        "id": "hA5bH5kFOQ0B",
        "outputId": "9647cd5d-8a91-4563-b431-5a943b98d6f4"
      },
      "execution_count": null,
      "outputs": [
        {
          "output_type": "stream",
          "name": "stdout",
          "text": [
            "Requirement already satisfied: tflite-support in /usr/local/lib/python3.10/dist-packages (0.4.4)\n",
            "Requirement already satisfied: absl-py>=0.7.0 in /usr/local/lib/python3.10/dist-packages (from tflite-support) (1.4.0)\n",
            "Requirement already satisfied: numpy>=1.20.0 in /usr/local/lib/python3.10/dist-packages (from tflite-support) (1.25.2)\n",
            "Requirement already satisfied: flatbuffers>=2.0 in /usr/local/lib/python3.10/dist-packages (from tflite-support) (24.3.25)\n",
            "Requirement already satisfied: protobuf<4,>=3.18.0 in /usr/local/lib/python3.10/dist-packages (from tflite-support) (3.20.3)\n",
            "Requirement already satisfied: sounddevice>=0.4.4 in /usr/local/lib/python3.10/dist-packages (from tflite-support) (0.4.7)\n",
            "Requirement already satisfied: pybind11>=2.6.0 in /usr/local/lib/python3.10/dist-packages (from tflite-support) (2.12.0)\n",
            "Requirement already satisfied: CFFI>=1.0 in /usr/local/lib/python3.10/dist-packages (from sounddevice>=0.4.4->tflite-support) (1.16.0)\n",
            "Requirement already satisfied: pycparser in /usr/local/lib/python3.10/dist-packages (from CFFI>=1.0->sounddevice>=0.4.4->tflite-support) (2.22)\n"
          ]
        }
      ]
    },
    {
      "cell_type": "code",
      "source": [
        "# Import necessary libraries\n",
        "from tflite_support.metadata_writers import image_classifier\n",
        "from tflite_support.metadata_writers import writer_utils\n",
        "\n",
        "# Lokasi model TFLite yang akan ditambahkan metadata\n",
        "model_path = \"image_processing_tanah_3.tflite\"\n",
        "# Lokasi penyimpanan model TFLite dengan metadata\n",
        "model_with_metadata_path = \"image_processing_tanah_3_with_metadata.tflite\"\n",
        "\n",
        "# Tentukan input normalization sesuai dengan rescaling 1./255\n",
        "input_norm_mean = 0.0\n",
        "input_norm_std = 1.0\n",
        "\n",
        "# Path ke file label\n",
        "label_file_paths = [\"label_tanah.txt\"]\n",
        "\n",
        "# Buat metadata\n",
        "writer = image_classifier.MetadataWriter.create_for_inference(\n",
        "    writer_utils.load_file(model_path),\n",
        "    input_norm_mean,\n",
        "    input_norm_std,\n",
        "    label_file_paths\n",
        ")\n",
        "writer_utils.save_file(writer.populate(), model_with_metadata_path)"
      ],
      "metadata": {
        "id": "p76zeLKnNlpO"
      },
      "execution_count": null,
      "outputs": []
    },
    {
      "cell_type": "code",
      "source": [
        "files.download(model_with_metadata_path)"
      ],
      "metadata": {
        "colab": {
          "base_uri": "https://localhost:8080/",
          "height": 34
        },
        "id": "I_9qC9nT-VqA",
        "outputId": "47fea400-7322-4375-c3f9-848283815465"
      },
      "execution_count": null,
      "outputs": [
        {
          "output_type": "display_data",
          "data": {
            "text/plain": [
              "<IPython.core.display.Javascript object>"
            ],
            "application/javascript": [
              "\n",
              "    async function download(id, filename, size) {\n",
              "      if (!google.colab.kernel.accessAllowed) {\n",
              "        return;\n",
              "      }\n",
              "      const div = document.createElement('div');\n",
              "      const label = document.createElement('label');\n",
              "      label.textContent = `Downloading \"${filename}\": `;\n",
              "      div.appendChild(label);\n",
              "      const progress = document.createElement('progress');\n",
              "      progress.max = size;\n",
              "      div.appendChild(progress);\n",
              "      document.body.appendChild(div);\n",
              "\n",
              "      const buffers = [];\n",
              "      let downloaded = 0;\n",
              "\n",
              "      const channel = await google.colab.kernel.comms.open(id);\n",
              "      // Send a message to notify the kernel that we're ready.\n",
              "      channel.send({})\n",
              "\n",
              "      for await (const message of channel.messages) {\n",
              "        // Send a message to notify the kernel that we're ready.\n",
              "        channel.send({})\n",
              "        if (message.buffers) {\n",
              "          for (const buffer of message.buffers) {\n",
              "            buffers.push(buffer);\n",
              "            downloaded += buffer.byteLength;\n",
              "            progress.value = downloaded;\n",
              "          }\n",
              "        }\n",
              "      }\n",
              "      const blob = new Blob(buffers, {type: 'application/binary'});\n",
              "      const a = document.createElement('a');\n",
              "      a.href = window.URL.createObjectURL(blob);\n",
              "      a.download = filename;\n",
              "      div.appendChild(a);\n",
              "      a.click();\n",
              "      div.remove();\n",
              "    }\n",
              "  "
            ]
          },
          "metadata": {}
        },
        {
          "output_type": "display_data",
          "data": {
            "text/plain": [
              "<IPython.core.display.Javascript object>"
            ],
            "application/javascript": [
              "download(\"download_9f328df0-ff73-49c9-828a-7627463883ae\", \"image_processing_tanah_3_with_metadata.tflite\", 22585563)"
            ]
          },
          "metadata": {}
        }
      ]
    }
  ],
  "metadata": {
    "colab": {
      "provenance": [],
      "gpuType": "T4"
    },
    "kernelspec": {
      "display_name": "Python 3",
      "name": "python3"
    },
    "language_info": {
      "name": "python"
    },
    "accelerator": "GPU"
  },
  "nbformat": 4,
  "nbformat_minor": 0
}